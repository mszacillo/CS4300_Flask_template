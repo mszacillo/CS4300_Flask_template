{
 "cells": [
  {
   "cell_type": "markdown",
   "metadata": {},
   "source": [
    "## Scraping song lyrics from the Genius.com ##\n",
    "\n",
    "This notebook contains the Python code described on my blog in the [scraping genius lyrics post](http://www.johnwmillr.com/blog/2017/scraping-genius-lyrics).\n",
    "\n",
    "Head over to my [GitHub repository](https://github.com/johnwmillr/geniusapi) to clone my Python wrapper.\n"
   ]
  },
  {
   "cell_type": "markdown",
   "metadata": {},
   "source": [
    "## Genius API ##"
   ]
  },
  {
   "cell_type": "code",
   "execution_count": 1,
   "metadata": {},
   "outputs": [],
   "source": [
    "# Sign up for a free account at Genius.com to access the API\n",
    "# http://genius.com/api-clients\n",
    "client_access_token = 'aPa0OLqvXfY8ht00NeneEBzZyvCvVcCiy40c4U-n3nzjZbfLrhEd2trP0hP_1_X3'"
   ]
  },
  {
   "cell_type": "code",
   "execution_count": 2,
   "metadata": {},
   "outputs": [],
   "source": [
    "# Let's take a look at how we might search for an artist using the Genius API.\n",
    "import requests\n",
    "import urllib.request\n",
    "\n",
    "# Format a request URL for the Genius API\n",
    "search_term = 'Andy Shauf'\n",
    "_URL_API = \"https://api.genius.com/\"\n",
    "_URL_SEARCH = \"search?q=\"\n",
    "querystring = _URL_API + _URL_SEARCH + urllib.request.quote(search_term)\n",
    "request = urllib.request.Request(querystring)\n",
    "request.add_header(\"Authorization\", \"Bearer \" + client_access_token)\n",
    "# request.add_header(\"User-Agent\",\"curl/7.9.8 (i686-pc-linux-gnu) libcurl 7.9.8 (OpnSSL 0.9.6b) (ipv6 enabled)\")\n",
    "request.add_header(\"User-Agent\", \"\")"
   ]
  },
  {
   "cell_type": "code",
   "execution_count": 3,
   "metadata": {},
   "outputs": [],
   "source": [
    "# Now that we’ve formatted the URL, we can make a request to the database.\n",
    "import json\n",
    "response = urllib.request.urlopen(request, timeout=3)\n",
    "raw = response.read()\n",
    "json_obj = json.loads(raw)"
   ]
  },
  {
   "cell_type": "code",
   "execution_count": 4,
   "metadata": {},
   "outputs": [
    {
     "data": {
      "text/plain": [
       "dict_keys(['meta', 'response'])"
      ]
     },
     "execution_count": 4,
     "metadata": {},
     "output_type": "execute_result"
    }
   ],
   "source": [
    "# The JSON object is just a normal python dictionary\n",
    "json_obj.keys()"
   ]
  },
  {
   "cell_type": "code",
   "execution_count": 5,
   "metadata": {},
   "outputs": [
    {
     "data": {
      "text/plain": [
       "['annotation_count',\n",
       " 'api_path',\n",
       " 'full_title',\n",
       " 'header_image_thumbnail_url',\n",
       " 'header_image_url',\n",
       " 'id',\n",
       " 'lyrics_owner_id',\n",
       " 'lyrics_state',\n",
       " 'path',\n",
       " 'pyongs_count',\n",
       " 'song_art_image_thumbnail_url',\n",
       " 'stats',\n",
       " 'title',\n",
       " 'title_with_featured',\n",
       " 'url',\n",
       " 'primary_artist']"
      ]
     },
     "execution_count": 5,
     "metadata": {},
     "output_type": "execute_result"
    }
   ],
   "source": [
    "# The 'hits` key stores info on each song in the search result.\n",
    "# From here it's easy to grab the song title, album, etc.\n",
    "\n",
    "# List each key contained within a single search hit\n",
    "[key for key in json_obj['response']['hits'][0]['result']]"
   ]
  },
  {
   "cell_type": "code",
   "execution_count": 6,
   "metadata": {},
   "outputs": [
    {
     "data": {
      "text/plain": [
       "['The Magician',\n",
       " 'Quite Like You',\n",
       " 'Early to the Party',\n",
       " 'To You',\n",
       " 'Wendell Walker',\n",
       " 'Martha Sways',\n",
       " 'Twist Your Ankle',\n",
       " 'The Worst in You',\n",
       " \"You're Out Wasting\",\n",
       " 'Eyes of Them All']"
      ]
     },
     "execution_count": 6,
     "metadata": {},
     "output_type": "execute_result"
    }
   ],
   "source": [
    "# View the song name for each search hit\n",
    "[song['result']['title'] for song in json_obj['response']['hits']]"
   ]
  },
  {
   "cell_type": "code",
   "execution_count": 7,
   "metadata": {},
   "outputs": [
    {
     "name": "stdout",
     "output_type": "stream",
     "text": [
      "https://images.genius.com/16423bad48ffd400aac3ba86d5b86ed4.850x850x1.jpg\n"
     ]
    }
   ],
   "source": [
    "# URL to artist image\n",
    "print(json_obj['response']['hits'][0]['result']['primary_artist']['image_url'])"
   ]
  },
  {
   "cell_type": "markdown",
   "metadata": {},
   "source": [
    "<img src=\"https://images.genius.com/16423bad48ffd400aac3ba86d5b86ed4.850x850x1.jpg\" style=\"width: 200px;\"/> "
   ]
  },
  {
   "cell_type": "markdown",
   "metadata": {},
   "source": [
    "### Access a song or artist directly by ID ###"
   ]
  },
  {
   "cell_type": "code",
   "execution_count": 8,
   "metadata": {},
   "outputs": [
    {
     "name": "stdout",
     "output_type": "stream",
     "text": [
      "{'meta': {'status': 200}, 'response': {'song': {'annotation_count': 1, 'api_path': '/songs/2299297', 'description': {'dom': {'tag': 'root', 'children': [{'tag': 'p', 'children': ['?']}]}}, 'embed_content': \"<div id='rg_embed_link_2299297' class='rg_embed_link' data-song-id='2299297'>Read <a href='https://genius.com/The-young-wild-not-a-one-lyrics'>“Not a One” by The\\xa0Young Wild</a> on Genius</div> <script crossorigin src='//genius.com/songs/2299297/embed.js'></script>\", 'featured_video': True, 'full_title': 'Not a One by\\xa0The\\xa0Young Wild', 'header_image_thumbnail_url': 'https://images.rapgenius.com/0fcb3103057c4d76c158eb778fa1d935.300x300x1.jpg', 'header_image_url': 'https://images.rapgenius.com/0fcb3103057c4d76c158eb778fa1d935.1000x1000x1.jpg', 'id': 2299297, 'lyrics_owner_id': 93685, 'lyrics_state': 'complete', 'path': '/The-young-wild-not-a-one-lyrics', 'pyongs_count': 3, 'recording_location': None, 'release_date': '2016-08-26', 'song_art_image_thumbnail_url': 'https://images.rapgenius.com/0fcb3103057c4d76c158eb778fa1d935.300x300x1.jpg', 'song_art_image_url': 'https://images.rapgenius.com/0fcb3103057c4d76c158eb778fa1d935.1000x1000x1.jpg', 'stats': {'accepted_annotations': 0, 'contributors': 3, 'hot': False, 'iq_earners': 2, 'transcribers': 1, 'unreviewed_annotations': 0, 'verified_annotations': 0, 'pageviews': 7447}, 'title': 'Not a One', 'title_with_featured': 'Not a One', 'url': 'https://genius.com/The-young-wild-not-a-one-lyrics', 'current_user_metadata': {'permissions': ['see_pageviews', 'create_comment'], 'excluded_permissions': ['follow', 'award_transcription_iq', 'remove_transcription_iq', 'pyong', 'edit_lyrics', 'view_annotation_engagement_data', 'publish', 'unpublish', 'edit_spotify_details', 'hide', 'unhide', 'toggle_featured_video', 'add_pinned_annotation_to', 'add_community_annotation_to', 'destroy', 'mark_as_not_spam', 'edit_spotify_annotations_for', 'verify_lyrics', 'unverify_lyrics', 'edit_anything', 'edit_album_appearances', 'edit_any_media', 'edit', 'rename', 'edit_tags', 'watch_fact_track', 'reindex', 'view_lyrics_synchronization', 'enable_media', 'disable_media', 'edit_lyrics_or_annotation_brackets', 'see_editorial_indicators', 'view_attribution_visualization', 'edit_youtube_url', 'edit_soundcloud_url', 'edit_spotify_uuid', 'edit_apple_music_url', 'edit_vevo_url', 'moderate_annotations', 'create_annotation', 'see_short_id', 'manage_chart_item', 'create_tag', 'view_song_story_gallery'], 'interactions': {'pyong': False, 'following': False}, 'relationships': {}, 'iq_by_action': {}}, 'album': {'api_path': '/albums/149225', 'cover_art_url': 'https://images.genius.com/0895f2d4d190fab7efce1a7b436e7575.1000x1000x1.jpg', 'full_title': 'All The Luck EP by The Young Wild', 'id': 149225, 'name': 'All The Luck EP', 'url': 'https://genius.com/albums/The-young-wild/All-the-luck-ep', 'artist': {'api_path': '/artists/539720', 'header_image_url': 'https://assets.genius.com/images/default_avatar_300.png?1522098260', 'id': 539720, 'image_url': 'https://assets.genius.com/images/default_avatar_300.png?1522098260', 'is_meme_verified': False, 'is_verified': False, 'name': 'The Young Wild', 'url': 'https://genius.com/artists/The-young-wild'}}, 'custom_performances': [], 'description_annotation': {'_type': 'referent', 'annotator_id': 93685, 'annotator_login': 'killersnowtiger', 'api_path': '/referents/7760404', 'classification': 'needs_exegesis', 'fragment': 'Not a One', 'id': 7760404, 'is_description': True, 'path': '/7760404/The-young-wild-not-a-one/Not-a-one', 'range': {'content': 'Not a One'}, 'song_id': 2299297, 'url': 'https://genius.com/7760404/The-young-wild-not-a-one/Not-a-one', 'verified_annotator_ids': [], 'annotatable': {'api_path': '/songs/2299297', 'client_timestamps': {'updated_by_human_at': 1486438801, 'lyrics_updated_at': 1465992123}, 'context': 'The Young Wild', 'id': 2299297, 'image_url': 'https://images.rapgenius.com/0fcb3103057c4d76c158eb778fa1d935.1000x1000x1.jpg', 'link_title': 'Not a One by\\xa0The\\xa0Young Wild', 'title': 'Not a One', 'type': 'Song', 'url': 'https://genius.com/The-young-wild-not-a-one-lyrics'}, 'annotations': [{'api_path': '/annotations/7760404', 'body': {'dom': {'tag': 'root'}}, 'comment_count': 0, 'community': True, 'custom_preview': None, 'has_voters': False, 'id': 7760404, 'pinned': False, 'share_url': 'https://genius.com/7760404', 'source': None, 'state': 'needs_exegesis', 'url': 'https://genius.com/7760404/The-young-wild-not-a-one/Not-a-one', 'verified': False, 'votes_total': 0, 'current_user_metadata': {'permissions': [], 'excluded_permissions': ['vote', 'edit', 'cosign', 'uncosign', 'destroy', 'accept', 'reject', 'see_unreviewed', 'clear_votes', 'propose_edit_to', 'pin_to_profile', 'unpin_from_profile', 'update_source', 'set_brand', 'clear_brand', 'edit_custom_preview', 'create_comment'], 'interactions': {'cosign': False, 'pyong': False, 'vote': None}, 'iq_by_action': {}}, 'authors': [{'attribution': 1.0, 'pinned_role': None, 'user': {'api_path': '/users/93685', 'avatar': {'tiny': {'url': 'https://images.genius.com/avatars/tiny/26ea77b579a51d4b185b5f79163e1fe4', 'bounding_box': {'width': 16, 'height': 16}}, 'thumb': {'url': 'https://images.genius.com/avatars/thumb/26ea77b579a51d4b185b5f79163e1fe4', 'bounding_box': {'width': 32, 'height': 32}}, 'small': {'url': 'https://images.genius.com/avatars/small/26ea77b579a51d4b185b5f79163e1fe4', 'bounding_box': {'width': 100, 'height': 100}}, 'medium': {'url': 'https://images.genius.com/avatars/medium/26ea77b579a51d4b185b5f79163e1fe4', 'bounding_box': {'width': 300, 'height': 400}}}, 'header_image_url': 'https://images.genius.com/5d9fd826e38ad61f98aa9b6985263347.1000x263x121.gif', 'human_readable_role_for_display': 'Moderator', 'id': 93685, 'iq': 330846, 'login': 'killersnowtiger', 'name': '\\u200bKST', 'role_for_display': 'moderator', 'url': 'https://genius.com/killersnowtiger', 'current_user_metadata': {'permissions': [], 'excluded_permissions': ['follow'], 'interactions': {'following': False}, 'features': []}}}], 'cosigned_by': [], 'rejection_comment': None, 'verified_by': None}]}, 'featured_artists': [], 'media': [{'provider': 'youtube', 'start': 0, 'type': 'video', 'url': 'http://www.youtube.com/watch?v=Dv-wLpKlq34'}, {'provider': 'apple_music', 'provider_id': '1100445646', 'type': 'audio', 'url': 'https://itunes.apple.com/lookup?entity=song&id=1100445646'}, {'native_uri': 'spotify:track:6z0W2cs30xwIo2dsXc0aWj', 'provider': 'spotify', 'type': 'audio', 'url': 'https://open.spotify.com/track/6z0W2cs30xwIo2dsXc0aWj'}, {'provider': 'soundcloud', 'type': 'audio', 'url': 'https://soundcloud.com/the-young-wild/not-a-one-1'}], 'primary_artist': {'api_path': '/artists/539720', 'header_image_url': 'https://assets.genius.com/images/default_avatar_300.png?1522098260', 'id': 539720, 'image_url': 'https://assets.genius.com/images/default_avatar_300.png?1522098260', 'is_meme_verified': False, 'is_verified': False, 'name': 'The Young Wild', 'url': 'https://genius.com/artists/The-young-wild'}, 'producer_artists': [], 'song_relationships': [{'type': 'samples', 'songs': []}, {'type': 'sampled_in', 'songs': []}, {'type': 'interpolates', 'songs': []}, {'type': 'interpolated_by', 'songs': []}, {'type': 'cover_of', 'songs': []}, {'type': 'covered_by', 'songs': []}, {'type': 'remix_of', 'songs': []}, {'type': 'remixed_by', 'songs': []}, {'type': 'live_version_of', 'songs': []}, {'type': 'performed_live_as', 'songs': []}], 'verified_annotations_by': [], 'verified_contributors': [], 'verified_lyrics_by': [], 'writer_artists': []}}}\n",
      "('Not a One', 'The Young Wild')\n"
     ]
    }
   ],
   "source": [
    "# If you have an artist or song ID, you can access that entry \n",
    "# directly by reformatting the request URL.\n",
    "song_id = 2299297\n",
    "querystring = \"https://api.genius.com/songs/\" + str(song_id)\n",
    "request = urllib.request.Request(querystring)\n",
    "request.add_header(\"Authorization\", \"Bearer \" + client_access_token)\n",
    "request.add_header(\"User-Agent\", \"\")\n",
    "response = urllib.request.urlopen(request, timeout=3)\n",
    "raw = response.read()\n",
    "json_obj = json.loads(raw)\n",
    "print(json_obj)\n",
    "print((json_obj['response']['song']['title'],\\\n",
    "       json_obj['response']['song']['primary_artist']['name']))"
   ]
  },
  {
   "cell_type": "code",
   "execution_count": 26,
   "metadata": {},
   "outputs": [
    {
     "name": "stdout",
     "output_type": "stream",
     "text": [
      "float64\n",
      "37044\n",
      "11001\n",
      "46681\n",
      "[37044. 11001. 46681.]\n",
      "31575.333333333332\n",
      "3\n"
     ]
    }
   ],
   "source": [
    "import random\n",
    "import numpy as np\n",
    "\n",
    "# If you have an artist or song ID, you can access that entry \n",
    "# directly by reformatting the request URL.\n",
    "\n",
    "def findMeanPageViews(numSongs):\n",
    "    songViews = np.empty((0,))\n",
    "    print(songViews.dtype)\n",
    "    for i in range(numSongs):\n",
    "        song_id = random.randint(0,2299297)\n",
    "        querystring = \"https://api.genius.com/songs/\" + str(song_id)\n",
    "        request = urllib.request.Request(querystring)\n",
    "        request.add_header(\"Authorization\", \"Bearer \" + client_access_token)\n",
    "        request.add_header(\"User-Agent\", \"\")\n",
    "        try:\n",
    "            response = urllib.request.urlopen(request, timeout=3)\n",
    "            raw = response.read()\n",
    "            json_obj = json.loads(raw)\n",
    "            if 'pageviews' in json_obj['response']['song']['stats'].keys() and json_obj['response']['song']['stats']['pageviews'] != 0:\n",
    "                print(json_obj['response']['song']['stats']['pageviews'])\n",
    "                songViews = np.append(songViews, json_obj['response']['song']['stats']['pageviews'])\n",
    "        except:\n",
    "            pass\n",
    "    return songViews\n",
    "\n",
    "pageViews = findMeanPageViews(100)\n",
    "\n",
    "print(pageViews)\n",
    "print(np.mean(pageViews))\n",
    "print(len(pageViews))\n",
    "       # print((json_obj['response']['song']['title'],\\\n",
    "       #        json_obj['response']['song']['primary_artist']['name']))"
   ]
  },
  {
   "cell_type": "code",
   "execution_count": 65,
   "metadata": {},
   "outputs": [
    {
     "name": "stdout",
     "output_type": "stream",
     "text": [
      "0\n",
      "5\n",
      "10\n",
      "15\n",
      "20\n",
      "25\n",
      "30\n",
      "35\n",
      "40\n",
      "45\n",
      "50\n",
      "55\n",
      "60\n",
      "65\n",
      "70\n",
      "75\n",
      "80\n",
      "85\n",
      "90\n",
      "95\n",
      "100\n",
      "105\n",
      "110\n",
      "115\n",
      "120\n",
      "125\n",
      "130\n",
      "135\n",
      "140\n",
      "145\n",
      "150\n",
      "155\n",
      "160\n",
      "165\n",
      "170\n",
      "175\n",
      "180\n",
      "185\n",
      "190\n",
      "195\n",
      "200\n"
     ]
    }
   ],
   "source": [
    "def getSongData(numSongs):\n",
    "    songData = {}\n",
    "    for i in range(numSongs+1):\n",
    "        song_id = i\n",
    "        if (i % 5) == 0:\n",
    "            print(i)\n",
    "        querystring = \"https://api.genius.com/songs/\" + str(song_id)\n",
    "        request = urllib.request.Request(querystring)\n",
    "        request.add_header(\"Authorization\", \"Bearer \" + client_access_token)\n",
    "        request.add_header(\"User-Agent\", \"\")\n",
    "        try:\n",
    "            response = urllib.request.urlopen(request, timeout=3)\n",
    "            raw = response.read()\n",
    "            json_obj = json.loads(raw)\n",
    "            if 'pageviews' in json_obj['response']['song']['stats'].keys() and json_obj['response']['song']['stats']['pageviews'] != 0:\n",
    "                #print(json_obj['response']['song']['stats']['pageviews'])\n",
    "                song = json_obj['response']['song']\n",
    "                title = song['title']\n",
    "                song_id = song['id']\n",
    "                artist = song['album']['artist']['name']\n",
    "                release_date = song['release_date']\n",
    "                lyrics = str(getLyrics(song['url']))\n",
    "                url = song['url']\n",
    "                pageviews = song['stats']['pageviews']\n",
    "                currsongdata = {'url':url,'title':title,'artist':artist,'release_date':release_date,'lyrics':lyrics,'page_views':pageviews}\n",
    "                songData[song_id] = currsongdata\n",
    "        except Exception as e:\n",
    "            pass\n",
    "    return songData\n",
    "\n",
    "def savejson(data):\n",
    "    with open('songData.json','w') as outfile:\n",
    "        json.dump(data,outfile)\n",
    "\n",
    "        \n",
    "mydata = getSongData(200)\n",
    "savejson(mydata)        \n",
    "        \n",
    "        \n",
    "        \n",
    "        "
   ]
  },
  {
   "cell_type": "code",
   "execution_count": 56,
   "metadata": {},
   "outputs": [
    {
     "name": "stdout",
     "output_type": "stream",
     "text": [
      "{'url': 'https://genius.com/Camron-losing-weight-pt-2-lyrics', 'title': 'Losing Weight, Pt. 2', 'artist': \"Cam'ron\", 'release_date': '2002-05-14', 'lyrics': 'b\\'\\\\n\\\\n[Chorus: Cam\\\\\\'ron]\\\\nAyo, fuck losing weight\\\\nI\\\\\\'m back on these highways moving cakes\\\\nLife\\\\\\'s based upon what I\\\\\\'ma do today\\\\nCop a car, new estate\\\\nNa, fuck it get the beef and brocs: blue and gray\\\\nBaby due today\\\\nI got to move an eighth\\\\nFuck the scrutiny\\\\nY\\\\\\'all niggas screwing me\\\\nKilla never let the drama slide\\\\nY\\\\\\'all gone hear a nigga momma die\\\\nYell out \"homicide\"\\\\n\\\\n[Verse 1: Cam\\\\\\'ron]\\\\nYo, 18 months? Please, that ain\\\\\\'t facing time\\\\nI\\\\\\'m stressed anyway, need it for vacation time\\\\nI\\\\\\'ma do the right thing though, take shock anyway\\\\n6 months, right back on the damn block anyway\\\\nBut look, money from across the street\\\\nThink it\\\\\\'s sweet, think he get money across the street\\\\nMe and my peeps often meet\\\\nAnd 5-0 they work for us, walk the beat\\\\nWalk with heat \\\\\\'cause talk is cheap\\\\nSo dunn stay silent\\\\nRevolvers, automatics, guns stay silent\\\\nWhen it comes to beef it becomes a talent\\\\nRemember me, ODB, I\\\\\\'m the one from [Violence], Killa\\\\nDigital ten, shit get critical friend\\\\nI got 800 invisible men\\\\nThat mean it could be the bankman\\\\nPerson at the gas station filling up your tank, fam\\\\nLady at the frank stand will\\\\nRat poison your relish right in the center, babe\\\\nBitch is a renegade, she\\\\\\'ll piss in your lemonade!\\\\nAnd y\\\\\\'all dead now\\\\nThat you can bet now\\\\nDo like a toaster put your bread down\\\\nUpset now, hate when I gotta rep, clowns, blow TEC rounds\\\\nIn a collision, I see their ambition\\\\nBut they don\\\\\\'t know them days I was stooped up and pitching\\\\nOr all them hot summers I was cooped up in the kitchen\\\\nWhen it came to grams it was 90 I fried\\\\n350 on the stove and it\\\\\\'s 90 outside\\\\nI\\\\\\'ma get this girl that be stuffing my bricks\\\\nFelt life cheated her, she be cutting her wrists\\\\nHer mom died, her-on overdose stuffed in her wrist\\\\nFather fucking her, older man fucking her sis\\\\nBut love my music, say I do nothing but hits\\\\nShe\\\\\\'ll do anything for me, nothing but hits\\\\nCause when she needed help I got her nothing but fixed\\\\nNeeded coke, needed dope, yeah, I gave her a fix\\\\nSo she went across the street, gave him a kiss\\\\nStuck her toungue out, flirted, played with his dick\\\\n\"You know Cam?\" He said \"yeah.\" \"Don\\\\\\'t play with his chips\"\\\\nStood back, blazed him with 6, amazing and shit\\\\nHuh, Killa, Killa, Dipset nigga\\\\n\\\\n[Chorus: Juelz Santana]\\\\nYo, fuck losing weight\\\\nWe back on these highways moving cakes\\\\nLife\\\\\\'s based upon what I\\\\\\'ma do today\\\\nTake my moms, move away\\\\nYeah, I think I\\\\\\'ma cop me that new estate\\\\nBaby due today\\\\nI got to move an eighth\\\\nFuck the scrutiny\\\\nY\\\\\\'all niggas screwing me\\\\nJuelz never let the cops get me\\\\nOn the block \\\\\\'til the shots hit me\\\\nUntil the shots get me\\\\n\\\\n[Verse 2: Juelz Santana]\\\\nNiggas wanna know why I\\\\\\'m so nice\\\\nWhen it comes to spitting that fire, it\\\\\\'s real dog, I live in the fire\\\\nUsed to being in the streets homie, in the midst of the fire\\\\nBreak work, put it in pots, sit it in fire\\\\nQuick to grab the fifth and just fire\\\\nTry to peel off, I\\\\\\'m hitting your tires\\\\nHittin your door while your car\\\\\\'s spinning, hitting the wall\\\\nThat\\\\\\'s just the beginning of war\\\\nI let you know you dealing with dogs\\\\nMy villains\\\\\\'ll finish you off\\\\nHead in your chest, brain-\\\\nDead on the Van Wyck expressway\\\\nWhile I got my hand in the TEC, wave\\\\nNiggas like \"fuck, is he stupid?\" (Yes I am)\\\\nCops wanna cuff me, do it\\\\nYou wanna be a hero, snuff me, do it, rush me, do it\\\\nShit, like I ain\\\\\\'t been through the scars and bruises\\\\nLike I ain\\\\\\'t been through the bars, seen the sergeant troopers\\\\nLook at my body, I lost so much weight\\\\nCops raiding my spot, I done lost so much weight\\\\nI\\\\\\'m telling Papi \"front me a brick, let me owe that cake\"\\\\nHe telling me he \"ain\\\\\\'t got but so much weight\"\\\\nHe been waiting for his connection to come\\\\nI\\\\\\'m like \"at least give me a half, I\\\\\\'ll compress it and stretch it to one\"\\\\nI\\\\\\'m on the block as usual\\\\nWith that block that you chop and the rocks as usual\\\\nWatching for the cops that\\\\\\'s moving through\\\\nMe and my soldiers know the rules\\\\nWe use cakes to get by, by the dudes in blue\\\\nKeep your mouth locked, screwed and glued\\\\nOr shots from the Ruger duke\\\\\\'ll circle round your body like hula-hoops (woo!)\\\\nMami told me son, hold your own\\\\nAnd one day you gon\\\\\\' grow to be a rolling stone\\\\nI believed her...\\\\nJuelz never let the cops get me\\\\nOn the block til the shots hit me...\\\\n\\\\n[Chorus: Cam\\\\\\'ron]\\\\nAyo, fuck losing weight\\\\nI\\\\\\'m back on these highways moving cakes\\\\nLife\\\\\\'s based upon what I\\\\\\'ma do today\\\\nCop a car, new estate\\\\nNah, fuck it get the beef and brocs: blue and gray\\\\nBaby due today\\\\nI got to move an eighth\\\\nFuck the scrutiny\\\\nY\\\\\\'all niggas screwing me\\\\nKilla never let the drama slide\\\\nY\\\\\\'all gon\\\\\\' hear a nigga momma die\\\\nYell out \"homicide\"\\\\n\\\\n[Chorus: Juelz Santana]\\\\nYo, fuck losing weight\\\\nWe back on these highways we moving cakes\\\\nLife\\\\\\'s based upon what I\\\\\\'ma do today\\\\nTake my moms, move away\\\\nYeah, I think I\\\\\\'ma cop me that new estate\\\\nBaby due today\\\\nI got to move an eighth\\\\nFuck the scrutiny\\\\nY\\\\\\'all niggas screwing me\\\\nJuelz never let the cops get me\\\\nOn the block \\\\\\'til the shots hit me\\\\nUntil the shots get me\\\\n\\\\n\\'', 'page_views': 19851}\n"
     ]
    }
   ],
   "source": [
    "data = json.load(open('songData.json'))\n",
    "print(data['19'])"
   ]
  },
  {
   "cell_type": "markdown",
   "metadata": {},
   "source": [
    "### Scrape song lyrics ###"
   ]
  },
  {
   "cell_type": "code",
   "execution_count": 27,
   "metadata": {},
   "outputs": [],
   "source": [
    "from bs4 import BeautifulSoup\n",
    "import re\n",
    "def getLyrics(url):\n",
    "    page = requests.get(url)    \n",
    "    html = BeautifulSoup(page.text, \"html.parser\") # Extract the page's HTML as a string\n",
    "\n",
    "    # Scrape the song lyrics from the HTML\n",
    "    lyrics = html.find(\"div\", class_=\"lyrics\").get_text().encode('ascii','ignore')\n",
    "    #lyrics = re.sub('\\[.*\\]','',lyrics) # Remove [Verse] and [Bridge] stuff\n",
    "    #lyrics = re.sub('\\n{2}','',lyrics)  # Remove gaps between verses        \n",
    "    #lyrics = str(lyrics).strip('\\n')\n",
    "    return lyrics"
   ]
  },
  {
   "cell_type": "markdown",
   "metadata": {},
   "source": [
    "## Python wrapper ##\n",
    "You may need to run this code from the Terminal after cloning the repo\n",
    "https://github.com/johnwmillr/geniusapi"
   ]
  },
  {
   "cell_type": "code",
   "execution_count": 10,
   "metadata": {},
   "outputs": [],
   "source": [
    "# Create an instance of the API interface\n",
    "import lyricsgenius as genius\n",
    "api = genius.Genius(client_access_token)"
   ]
  },
  {
   "cell_type": "code",
   "execution_count": 11,
   "metadata": {},
   "outputs": [
    {
     "name": "stdout",
     "output_type": "stream",
     "text": [
      "Searching for Andy Shauf...\n",
      "\n",
      "Song 1: \"Alexander All Alone\"\n",
      "Song 2: \"Begin Again\"\n",
      "Song 3: \"Comfortable With Silence\"\n",
      "Song 4: \"Covered in Dust\"\n",
      "Song 5: \"Crushes\"\n",
      "\n",
      "Reached user-specified song limit (5).\n",
      "Found 5 songs.\n",
      "Done.\n",
      "Andy Shauf, 5 songs\n"
     ]
    }
   ],
   "source": [
    "# Search for an artist\n",
    "artist = api.search_artist('Andy Shauf', max_songs=5)\n",
    "print(artist)"
   ]
  },
  {
   "cell_type": "code",
   "execution_count": 12,
   "metadata": {},
   "outputs": [
    {
     "name": "stdout",
     "output_type": "stream",
     "text": [
      "Searching for \"Wendell Walker\"...\n",
      "Done.\n",
      "Andy Shauf, 6 songs\n",
      "Alexander all alone\n",
      "Smoking a cigarette\n",
      "The last pack he’d ever buy\n",
      "At least that’s what he said\n",
      "He stood up to stretch his back\n",
      "And fell down to the ground\n",
      "\n",
      "Alexander all alone\n",
      "'Till the neighbour caught a glimpse\n",
      "Cried out for his wife\n",
      "To call the ambulance\n",
      "Alexander all alone\n",
      "Felt them check his pulse\n",
      "He heard them pronounce him dead\n",
      "\n",
      "Hell is found inside of me\n",
      "And nothing else will set me free\n",
      "If hell is found inside of me\n",
      "Then open me up and spill me out\n",
      "\n",
      "Alexander wondered why\n",
      "No life flashed before his eyes\n",
      "Why his soul did not depart\n",
      "Why he found no peace of mind\n",
      "Would it take a little while?\n",
      "Was it the same for everyone?\n",
      "Alexander realized\n",
      "\n",
      "That hell is found inside of me\n",
      "And nothing else will set me free\n",
      "If hell is found inside of me\n",
      "Then open me up and spill me out\n"
     ]
    }
   ],
   "source": [
    "# Search for a specific song\n",
    "song = api.search_song('Wendell Walker', artist.name)\n",
    "artist.add_song(song)\n",
    "print(artist)\n",
    "print(artist.songs[0].lyrics)"
   ]
  },
  {
   "cell_type": "code",
   "execution_count": null,
   "metadata": {},
   "outputs": [],
   "source": []
  },
  {
   "cell_type": "code",
   "execution_count": null,
   "metadata": {},
   "outputs": [],
   "source": []
  },
  {
   "cell_type": "code",
   "execution_count": null,
   "metadata": {},
   "outputs": [],
   "source": []
  }
 ],
 "metadata": {
  "kernelspec": {
   "display_name": "venv",
   "language": "python",
   "name": "venv"
  },
  "language_info": {
   "codemirror_mode": {
    "name": "ipython",
    "version": 3
   },
   "file_extension": ".py",
   "mimetype": "text/x-python",
   "name": "python",
   "nbconvert_exporter": "python",
   "pygments_lexer": "ipython3",
   "version": "3.6.3"
  }
 },
 "nbformat": 4,
 "nbformat_minor": 2
}
