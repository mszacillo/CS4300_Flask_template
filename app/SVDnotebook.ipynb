{
 "cells": [
  {
   "cell_type": "code",
   "execution_count": 1,
   "metadata": {},
   "outputs": [],
   "source": [
    "import numpy as np\n",
    "import json\n",
    "from sklearn.feature_extraction.text import TfidfVectorizer\n",
    "from scipy.sparse.linalg import svds\n",
    "import matplotlib\n",
    "import matplotlib.pyplot as plt\n",
    "from sklearn.preprocessing import normalize\n",
    "from sklearn.manifold import TSNE"
   ]
  },
  {
   "cell_type": "code",
   "execution_count": 2,
   "metadata": {},
   "outputs": [
    {
     "name": "stdout",
     "output_type": "stream",
     "text": [
      "dict_keys(['page_views', 'lyrics', 'url', 'artist', 'release_date', 'title'])\n"
     ]
    }
   ],
   "source": [
    "with open(\"songData.json\", \"r\") as f:\n",
    "\tsong_transcripts = json.load(f)\n",
    "\n",
    "songs = list(song_transcripts.values())\n",
    "print(songs[0].keys())"
   ]
  },
  {
   "cell_type": "code",
   "execution_count": 3,
   "metadata": {},
   "outputs": [
    {
     "name": "stderr",
     "output_type": "stream",
     "text": [
      "/Library/Frameworks/Python.framework/Versions/3.5/lib/python3.5/site-packages/sklearn/feature_extraction/text.py:1039: FutureWarning: Conversion of the second argument of issubdtype from `float` to `np.floating` is deprecated. In future, it will be treated as `np.float64 == np.dtype(float).type`.\n",
      "  if hasattr(X, 'dtype') and np.issubdtype(X.dtype, np.float):\n"
     ]
    },
    {
     "name": "stdout",
     "output_type": "stream",
     "text": [
      "(2118, 40)\n",
      "(4544, 40)\n",
      "{'nles': 1192, 'sample': 1616, 'mes': 987, 'nshow': 1279, 'need': 1114, 'pink': 1431, 'drugs': 450, 'ngirl': 1139, 'games': 607, 'cake': 220, 'windows': 2068, 'butter': 215, 'little': 904, 'spread': 1790, 'nlivin': 1200, 'point': 1458, 'till': 1918, 'lick': 887, 'se': 1637, 'vibe': 1999, 'bag': 70, 'flame': 555, 'rain': 1527, 'tre': 1949, 'callin': 223, 'nshit': 1276, 'use': 1993, 'nwent': 1346, 'ear': 461, 'higher': 723, 'bury': 206, 'automatic': 61, 'swing': 1865, 'trunk': 1965, 'label': 848, 'enemy': 477, 'ay': 65, 'went': 2049, 'nsee': 1274, 'fifth': 538, 'hall': 676, 'flesh': 559, 'dig': 405, 'ballin': 74, 'shed': 1673, 'rubber': 1603, 'major': 956, 'knowin': 841, 'crooked': 353, 'math': 973, 'thank': 1894, 'meat': 981, 'read': 1542, 'listening': 902, 'mad': 951, 'flip': 562, 'faire': 501, 'best': 105, 'couple': 337, 'man': 964, 'nred': 1265, 'nmaking': 1211, 'wish': 2074, 'making': 960, 'clean': 290, 'fair': 500, 'ntill': 1314, 'makin': 959, 'lap': 857, 'respect': 1562, 'tricks': 1954, 'fit': 552, 'lived': 906, 'nlooking': 1205, 'nhere': 1158, 'eminem': 472, 'swallow': 1861, 'shawty': 1672, 'nthis': 1308, 'haha': 673, 'attention': 58, 'eyes': 492, 'second': 1643, 'tough': 1937, 'funny': 604, 'rules': 1606, 'lines': 897, 'action': 16, 'belly': 101, 'nonly': 1240, 'nguess': 1148, 'nhaha': 1151, 'control': 324, 'short': 1689, 'bang': 77, 'ask': 51, 'strip': 1838, 'cruise': 357, 'threw': 1906, 'mary': 969, 'nword': 1361, 'teeth': 1886, 'broad': 183, 'nhell': 1156, 'kill': 822, 'nl': 1186, 'station': 1809, 'brooklyn': 187, 'plane': 1440, 'survive': 1859, 'yo': 2112, 'black': 120, 'dream': 437, 'goin': 639, 'sorry': 1766, 'nplease': 1256, 'nnever': 1223, 'nlook': 1203, 'clown': 303, 'escape': 479, 'nnothing': 1231, 'gun': 668, 'sleep': 1731, 'drink': 441, 'ready': 1543, 'bond': 145, 'homes': 742, 'nkeep': 1184, 'victim': 2000, 'soldier': 1757, 'sold': 1756, 'perfect': 1417, 'le': 866, 'hear': 705, 'master': 971, 'nose': 1244, 'tracks': 1943, 'hour': 755, 'let': 883, 'dog': 416, 'fix': 553, 'cuz': 365, 'killing': 828, 'breaking': 173, 'fella': 533, 'passion': 1408, 'momma': 1024, 'homie': 743, 'lack': 849, 'faces': 494, 'puff': 1500, 'does': 414, 'lying': 944, 'suit': 1852, 'mask': 970, 'loaded': 913, 'raw': 1539, 'nsame': 1272, 'doesn': 415, 'dre': 436, 'giving': 628, 'skills': 1725, 'hours': 756, 'situation': 1723, 'bigger': 110, 'head': 702, 'broke': 185, 'nthats': 1300, 'boom': 150, 'plot': 1453, 'platinum': 1445, 'npour': 1259, 'prepared': 1478, 'npull': 1261, 'handle': 679, 'limit': 895, 'seed': 1645, 'missin': 1010, 'ex': 485, 'white': 2058, 'ah': 25, 'flat': 557, 'moon': 1031, 'pro': 1488, 'lips': 898, 'near': 1112, 'miles': 999, 'shut': 1701, 'pure': 1506, 'nto': 1316, 'rest': 1563, 'blunt': 138, 'punch': 1504, 'knees': 836, 'plans': 1442, 'career': 235, 'different': 404, 'try': 1968, 'crowd': 355, 'rhyme': 1565, 'benz': 104, 'weeks': 2045, 'share': 1670, 'places': 1437, 'ngrab': 1147, 'rick': 1570, 'nlil': 1196, 'represent': 1561, 'hennessy': 717, 'numbers': 1329, 'wrote': 2101, 'ace': 12, 'jesus': 795, 'bed': 94, 'hardcore': 689, 'powder': 1474, 'uh': 1983, 'neighborhood': 1117, 'nwithout': 1359, 'shout': 1697, 'fucking': 600, 'oh': 1372, 'lady': 851, 'nback': 1073, 'okay': 1374, 'felt': 534, 'riding': 1573, 'easy': 467, 'birth': 115, 'hat': 692, 'rapping': 1536, 'nher': 1157, 'boo': 148, 'popped': 1464, 'things': 1898, 'slugs': 1739, 'walkin': 2017, 'si': 1702, 'given': 626, 'honey': 746, 'nthe': 1301, 'jumped': 808, 'kim': 829, 'haters': 696, 'bust': 210, 'took': 1934, 'clear': 291, 'ooh': 1379, 'youth': 2116, 'dangerous': 373, 'thangs': 1893, 'simple': 1710, 'act': 13, 'mon': 1026, 'touched': 1936, 'art': 50, 'afraid': 22, 'hatin': 697, 'pills': 1428, 'reality': 1545, 'strap': 1831, 'planet': 1441, 'killers': 826, 'tryna': 1971, 'dreams': 438, 'nfrom': 1131, 'boss': 155, 'nmaybe': 1215, 'broads': 184, 'just': 810, 'lose': 927, 'uhh': 1984, 'trippin': 1959, '40': 8, 'team': 1882, 'studio': 1842, 'wicked': 2061, 'showed': 1698, 'tour': 1938, 'pissed': 1434, 'store': 1826, 'load': 912, 'crew': 348, 'dare': 375, 'nsmoke': 1282, 'crime': 351, 'ass': 55, 'heads': 704, 'spitting': 1784, 'par': 1400, 'case': 239, 'excuse': 487, 'write': 2097, 'science': 1630, 'thats': 1896, 'foul': 587, 'queen': 1516, 'feelin': 527, 'serve': 1658, 'rip': 1579, 'today': 1924, 'nbad': 1074, 'loose': 924, 'nyea': 1365, 'rise': 1580, 'curb': 362, 'smash': 1743, 'hand': 678, 'sexy': 1663, 'motherfucker': 1034, 'nthere': 1304, 'burning': 205, 'crews': 349, 'spray': 1789, 'sense': 1655, 'god': 635, 'popping': 1466, 'mane': 965, 'aight': 28, 'comme': 319, 'hard': 688, 'fight': 539, 'lay': 864, 'tonight': 1932, 'cocked': 309, 'range': 1531, 'choice': 274, 'chest': 265, 'gangsta': 609, 'nwhere': 1350, 'bit': 116, 'answer': 43, 'watch': 2029, 'focused': 571, 'early': 462, 'frontin': 596, 'strength': 1835, 'grill': 659, 'earth': 464, 'calm': 226, 'pops': 1467, 'winter': 2071, 'trip': 1957, 'steps': 1818, 'nbetter': 1080, 'pieces': 1426, 'compton': 322, 'sun': 1854, 'prison': 1487, 'drake': 434, 'rims': 1576, 'standin': 1798, 'tell': 1887, 'nliving': 1201, 'deal': 385, 'start': 1803, 'understand': 1988, 'laying': 865, 'wave': 2033, 'strike': 1837, 'army': 49, 'plenty': 1452, 'lee': 876, 'lead': 867, 'tight': 1916, 'look': 919, 'boat': 140, 'nlet': 1193, 'riches': 1569, 'fear': 522, 'thought': 1903, 'funky': 603, 'nmake': 1210, 'shouldn': 1696, 'nsince': 1281, 'broken': 186, 'favorite': 521, 'path': 1410, 'pounds': 1472, 'dark': 376, 'war': 2025, 'happens': 686, 'bird': 113, 'forward': 586, 'press': 1480, 'step': 1815, 'ncheck': 1098, 'fuck': 597, 'shootin': 1686, 'nyo': 1368, 'drug': 449, 'juice': 806, 'catch': 244, 'rien': 1574, 'nmr': 1220, 'tears': 1884, 'waitin': 2012, 'bread': 171, 'pound': 1471, 'somebody': 1760, 'buried': 203, 'nfeel': 1125, 'price': 1484, 'quite': 1524, 'writing': 2098, 'nlast': 1188, 'nmatter': 1214, 'leather': 871, 'ntalking': 1297, 'everyday': 483, 'ate': 56, 'ill': 769, 'listen': 901, 'school': 1629, 'lift': 891, 'book': 149, 'nso': 1283, 'spoken': 1787, 'knowledge': 842, 'shake': 1666, 'et': 481, 'climb': 293, 'record': 1550, 'bother': 156, 'nsometimes': 1287, 'sitting': 1722, 'nabout': 1049, 'hook': 749, 'click': 292, 'sales': 1615, 'ya': 2103, 'poppin': 1465, 'doing': 420, 'joint': 802, 'cap': 230, 'talkin': 1873, 'place': 1436, 'clique': 296, 'quick': 1521, 'grand': 652, 'rapper': 1533, 'low': 939, 'met': 990, 'ngood': 1144, 'blown': 135, 'closed': 299, 'slow': 1737, 'mirror': 1007, 'throwing': 1911, 'choose': 276, 'acting': 15, 'speaking': 1775, 'hearts': 708, 'cut': 364, 'floss': 564, 'nuh': 1326, 'birds': 114, 'clip': 294, 'niggas': 1171, 'mic': 992, '11': 2, 'sippin': 1716, 'finally': 543, 'feds': 524, 'chillin': 272, 'kind': 830, 'waist': 2010, 'homies': 744, 'ntoo': 1318, 'kid': 820, 'nwait': 1336, 'rappin': 1535, 'rap': 1532, 'strong': 1839, 'message': 989, 'stepped': 1816, 'nwhat': 1347, 'thug': 1912, 'nyeah': 1366, 'says': 1625, 'ho': 730, 'net': 1118, 'holla': 737, 'lyrical': 945, 'ndamn': 1104, 'paint': 1395, 'nam': 1056, 'match': 972, 'produced': 1492, 'blood': 131, 'hip': 725, 'boots': 152, 'problem': 1490, 'used': 1994, 'coast': 305, 'grab': 650, 'killa': 823, 'gold': 641, 'heat': 709, 'far': 514, 'lets': 884, 'angel': 41, 'que': 1515, 'worth': 2092, 'welcome': 2048, 'crash': 344, 'blue': 137, 'refrain': 1553, 'naked': 1053, 'sort': 1767, 'care': 234, 'tape': 1876, 'ninstead': 1177, 'mixed': 1015, 'spend': 1778, 'um': 1985, 'stand': 1797, 'memories': 983, 'hide': 721, 'playa': 1447, 'punk': 1505, 'nuhh': 1327, 'scratch': 1631, 'sur': 1857, 'picked': 1421, 'palm': 1397, 'old': 1376, 'note': 1245, 'moment': 1023, 'ghost': 619, 'ride': 1571, 'animal': 42, 'thanks': 1895, 'honest': 745, 'wrap': 2094, 'nnow': 1232, 'moving': 1043, 'shall': 1667, 'leave': 872, '20': 4, 'nous': 1250, 'blowin': 133, 'goes': 638, 'ship': 1678, 'seats': 1642, 'aint': 31, 'roc': 1583, 'blew': 127, 'nbig': 1081, 'plan': 1439, 'sans': 1618, 'bring': 180, 'route': 1601, 'hood': 748, 'fool': 576, 'sho': 1681, 'thinking': 1901, 'stayed': 1811, 'grown': 665, 'je': 791, 'color': 314, 'nasty': 1065, 'jeans': 793, 'nthree': 1311, 'pole': 1459, 'eat': 468, 'ridin': 1572, 'une': 1989, 'crown': 356, 'shape': 1669, 'video': 2001, 'tied': 1915, 'guess': 667, 'teach': 1881, 'america': 39, 'nhigh': 1160, 'killed': 824, 'wrong': 2100, 'ncaught': 1096, 'breath': 174, 'coke': 311, 'ncoming': 1100, 'beast': 90, 'bitches': 118, 'violent': 2006, 'mack': 950, 'mob': 1019, 'walls': 2020, 'nin': 1176, 'snoop': 1753, 'eating': 470, 'coupe': 336, 'rhymes': 1566, 'lesson': 882, 'frame': 588, 'anybody': 44, 'save': 1620, 'buy': 216, 'flight': 561, 'dad': 367, 'des': 392, 'bye': 218, 'choke': 275, 'nhis': 1161, 'smooth': 1750, 'ain': 30, 'city': 286, 'sentence': 1657, 'country': 335, 'blowing': 134, 'nan': 1059, 'days': 383, 'npeace': 1252, 'music': 1047, 'ntryin': 1321, 'mama': 963, 'livin': 908, 'lies': 889, 'success': 1847, 'ncould': 1101, 'gats': 612, 'church': 284, 'floor': 563, 'thang': 1892, 'ngotta': 1146, 'rent': 1558, 'roll': 1589, 'line': 896, 'lane': 855, 'dro': 446, 'nhit': 1162, 'forgive': 583, 'bein': 99, 'la': 847, 'finish': 547, 'tune': 1973, 'grind': 660, 'chain': 253, 'dirty': 410, 'holy': 739, 'bounce': 160, 'nnot': 1230, 'smoke': 1746, 'glasses': 631, 'rose': 1597, 'times': 1920, 'pour': 1473, 'bringing': 181, 'steppin': 1817, 'hurt': 761, 'soul': 1768, 'waiting': 2013, 'danger': 372, 'ghetto': 618, 'imagine': 772, 'player': 1449, 'friend': 594, 'rich': 1568, 'nspit': 1289, 'older': 1377, 'stuff': 1843, 'better': 107, 'sister': 1719, 'dime': 406, 'reason': 1548, 'shower': 1699, 'shirt': 1679, 'booth': 151, 'truly': 1964, 'bullshit': 200, 'kiss': 834, 'mother': 1033, 'spot': 1788, 'lord': 926, 'win': 2065, 'asking': 54, 'morning': 1032, 'baby': 67, 'fo': 569, 'lean': 868, 'wife': 2063, 'lookin': 921, '2x': 6, 'nj': 1181, 'pulled': 1502, 'innocent': 775, 'live': 905, 'tall': 1875, 'east': 466, 'hurts': 762, 'guns': 669, 'pre': 1477, 'laid': 852, 'north': 1243, 'dirt': 409, 'toast': 1923, 'gimme': 621, 'jay': 790, 'npeople': 1253, 'lil': 894, 'lo': 911, 'grade': 651, 'average': 63, 'intro': 780, 'dance': 371, 'ndid': 1105, 'wise': 2073, 'ndont': 1108, 'strange': 1830, 'doin': 419, 'slug': 1738, 'ad': 17, 'trigger': 1956, 'living': 909, 'saying': 1624, 'storm': 1827, 'think': 1899, 'ngo': 1142, 'row': 1602, 'corner': 329, 'nof': 1233, 'holding': 734, 'nhow': 1166, 'orleans': 1382, 'seeing': 1647, 'hello': 715, 'pimpin': 1430, 'beautiful': 93, 'joke': 803, 'trap': 1946, 'blunts': 139, 'thugs': 1913, 'pay': 1412, 'nhey': 1159, 'fast': 515, 'biggie': 111, 'signed': 1706, 'seven': 1661, 'buck': 193, 'water': 2032, 'toes': 1926, 'pot': 1470, 'ndon': 1107, 'high': 722, 'nroll': 1269, 'pen': 1415, 'safe': 1613, 'quand': 1513, 'beat': 91, 'globe': 632, 'nice': 1168, 'rob': 1582, 'crying': 358, 'beginning': 98, 'magic': 952, 'ngod': 1143, 'spirit': 1781, 'paul': 1411, 'flash': 556, 'bad': 69, 'map': 966, 'sittin': 1721, 'qui': 1520, 'inside': 777, 'cum': 360, 'ng': 1135, 'amazing': 38, 'sack': 1611, 'number': 1328, 'proof': 1496, 'nhuh': 1167, 'band': 76, 'wants': 2024, 'max': 975, 'thousand': 1905, 'instead': 778, 'having': 701, 'fish': 550, 'raps': 1537, 'scared': 1626, 'knows': 844, 'ta': 1867, 'said': 1614, 'nyes': 1367, 'model': 1020, 'nah': 1051, 'months': 1029, 'sleeping': 1732, 'bastard': 85, 'wayne': 2035, 'kinda': 831, 'piss': 1433, 'nut': 1334, 'person': 1418, 'longer': 918, 'believe': 100, 'pretend': 1482, 'green': 657, 'butt': 214, 'dice': 397, 'nhe': 1154, 'claim': 287, 'coming': 318, 'nshe': 1275, 'stack': 1794, 'hit': 727, 'pussy': 1509, 'playin': 1450, 'waste': 2028, 'screamin': 1633, 'lyrics': 946, 'track': 1942, 'mail': 953, 'shining': 1677, 'probably': 1489, 'faith': 503, 'cause': 247, 'trash': 1948, 'nbring': 1087, 'bless': 125, 'style': 1845, 'pray': 1476, 'loves': 936, 'weak': 2037, 'post': 1469, 'middle': 996, 'slip': 1736, 'ntryna': 1323, 'fait': 502, 'news': 1124, 'leaves': 873, 'devil': 394, 'nthey': 1306, 'cent': 251, 'playing': 1451, 'babies': 66, 'casket': 242, 'moves': 1040, 'nfor': 1128, 'blow': 132, 'rude': 1604, 'duck': 454, 'leavin': 874, 'peep': 1414, 'nbut': 1089, 'nnigga': 1226, 'glock': 633, 'outta': 1387, 'building': 196, 'plastic': 1443, 'drunk': 451, 'ngive': 1141, 'heaven': 710, 'feeling': 528, 'sir': 1718, 'calling': 224, 'nt': 1295, 'laugh': 861, 'hell': 713, 'freak': 589, 'fame': 509, 'nnobody': 1229, 'yall': 2104, 'raised': 1529, 'knife': 838, 'nwas': 1341, 'bricks': 177, 'finished': 548, 'super': 1855, 'christ': 280, 'louis': 932, 'love': 933, 'shades': 1664, 'president': 1479, 'cash': 241, 'seen': 1648, 'neck': 1113, 'jack': 784, 'spin': 1780, 'shows': 1700, 'smoked': 1747, 'nno': 1228, 'paid': 1393, 'havin': 700, 'nrock': 1268, 'nain': 1052, 'picture': 1422, 'monster': 1028, 'yellow': 2110, 'song': 1763, 'mac': 948, 'feel': 526, 'ears': 463, 'closer': 300, 'road': 1581, 'smoking': 1749, 'ntake': 1296, 'cars': 237, 'daily': 369, 'nuts': 1335, 'nbecause': 1076, 'late': 859, 'boys': 167, 'grew': 658, 'fine': 544, 'shooting': 1687, 'mental': 985, 'nsome': 1284, 'hustler': 764, 'tellin': 1888, 'john': 801, 'sick': 1703, 'balls': 75, 'nwhy': 1356, 'everybody': 482, 'happened': 685, 'hey': 719, 'free': 590, 'fell': 532, 'nwhich': 1352, 'build': 195, 'hits': 728, 'called': 222, 'gave': 613, '10': 0, 'chorus': 277, 'nun': 1330, 'harlem': 691, 'en': 473, 'dope': 428, 'unless': 1991, 'wall': 2019, 'nany': 1061, 'train': 1945, 'split': 1785, 'yard': 2105, 'streets': 1834, 'ends': 475, 'force': 579, 'pick': 1420, 'hype': 765, 'mess': 988, 'thoughts': 1904, 'beer': 96, 'sing': 1712, 'loving': 938, 'human': 759, 'milk': 1000, 'promise': 1495, 'size': 1724, 'qu': 1512, 'yeah': 2107, 'dans': 374, 'yes': 2111, 'bottle': 157, 'large': 858, 'forget': 582, 'solo': 1759, 'nsomebody': 1285, 'pool': 1461, 'ton': 1929, 'sea': 1638, 'written': 2099, 'pie': 1424, 'putting': 1511, 'cheap': 262, '100': 1, 'prince': 1486, 'sign': 1705, 'tear': 1883, 'ignore': 767, 'vision': 2007, 'nnah': 1222, 'crazy': 345, 'air': 32, 'confused': 323, 'true': 1963, 'mistake': 1013, 'aim': 29, 'wit': 2075, 'list': 900, 'va': 1995, 'brothers': 189, 'fist': 551, 'brain': 168, 'pipe': 1432, 'nthought': 1310, 'hole': 735, 'slide': 1734, 'nright': 1267, 'nleft': 1191, 'da': 366, 'killer': 825, 'tie': 1914, 'ntold': 1317, 'brick': 176, 'parents': 1401, 'father': 519, 'week': 2043, 'silly': 1709, 'view': 2003, 'cases': 240, 'car': 231, 'charge': 260, 'bar': 79, 'forgot': 584, 'twist': 1979, 'born': 154, 'cage': 219, 'nshould': 1278, 'fate': 518, 'doubt': 431, 'face': 493, 'make': 957, 'smile': 1745, 'search': 1640, 'kick': 816, 'needed': 1115, 'packed': 1391, 'age': 23, 'won': 2079, 'big': 109, 'rep': 1559, 'young': 2114, 'bus': 207, 'pass': 1406, 'ncall': 1092, 'wear': 2039, 'flows': 566, 'nc': 1091, 'history': 726, 'tip': 1921, 'heard': 706, 'feels': 530, 'cook': 325, 'jump': 807, 'ncatch': 1095, 'drama': 435, 'zone': 2117, 'jaw': 789, 'plate': 1444, 'ol': 1375, 'fail': 499, 'sounds': 1770, 'ways': 2036, 'workin': 2086, 'nnew': 1224, 'run': 1607, 'kickin': 818, 'switch': 1866, 'dressed': 440, 'sad': 1612, 'nlike': 1195, 'nhot': 1165, 'diamond': 395, 'watchin': 2030, 'learned': 870, 'ones': 1378, 'nmore': 1218, 'mark': 967, 'em': 471, 'didn': 400, 'bout': 162, 'loved': 934, 'card': 232, 'nay': 1070, 'truck': 1962, 'chris': 279, 'radio': 1526, 'laughing': 862, 'worst': 2091, 'able': 11, 'street': 1833, 'nas': 1063, 'yea': 2106, 'nim': 1175, 'chance': 257, 'ross': 1598, 'noff': 1234, 'hair': 674, 'rule': 1605, 'noise': 1236, 'work': 2085, 'rappers': 1534, 'tired': 1922, 'nhope': 1164, 'hammer': 677, 'die': 401, 'girls': 625, 'money': 1027, 'tongue': 1931, 'heavy': 711, 'jail': 786, '30': 7, 'cheese': 264, 'nlife': 1194, 'curse': 363, 'turns': 1976, 'taste': 1878, 'court': 340, 'jungle': 809, 'nanother': 1060, 'nniggas': 1227, 'nthrough': 1312, 'king': 832, 'cell': 250, 'gettin': 616, 'nation': 1067, 'apart': 45, 'underground': 1987, 'sayin': 1623, 'starting': 1805, 'nif': 1169, 'knock': 839, 'bullets': 199, 'hating': 698, 'taking': 1871, 'shots': 1692, 'chair': 255, 'dash': 377, 'gone': 644, 'door': 426, 'slap': 1729, 'brother': 188, 'kicks': 819, 'nshorty': 1277, 'nokay': 1237, 'alive': 36, 'nbet': 1079, 'cream': 346, 'sight': 1704, 'bones': 147, 'nuntil': 1331, 'nwatch': 1342, 'bright': 179, 'nfucking': 1134, 'enemies': 476, 'golden': 642, 'hotter': 754, 'hanging': 683, 'trick': 1953, 'gang': 608, 'neverything': 1122, 'dumb': 457, 'nremember': 1266, 'interlude': 779, 'dude': 455, 'chrome': 282, 'ntwo': 1325, 'starts': 1806, 'nbitch': 1082, 'rings': 1578, 'tony': 1933, 'land': 854, 'girl': 623, 'poor': 1462, 'cross': 354, 'honor': 747, 'semi': 1653, 'wanna': 2021, 'stars': 1802, 'field': 535, 'au': 60, 'gon': 643, 'nwe': 1343, 'nare': 1062, 'saw': 1621, 'backwards': 68, 'thing': 1897, 'criminal': 352, 'blind': 128, 'game': 606, 'watching': 2031, 'held': 712, 'difference': 403, 'minds': 1004, 'fans': 513, 'blows': 136, 'nyour': 1370, 'form': 585, 'key': 814, 'cd': 248, 'round': 1600, 'hittin': 729, 'ground': 662, 'falling': 507, 'legs': 880, 'huh': 758, 'lit': 903, 'whip': 2056, 'nayo': 1071, 'tha': 1891, 'njust': 1183, 'wait': 2011, 'stare': 1801, 'whoa': 2059, 'cover': 342, 'nreal': 1264, 'secret': 1644, 'nstop': 1293, 'nstill': 1292, 'notice': 1248, 'sell': 1650, 'cha': 252, 'wood': 2082, 'mais': 955, 'ncan': 1094, 'touch': 1935, 'bombs': 144, 'judge': 805, 'blaze': 123, 'drinking': 443, 'twice': 1978, 'wrist': 2096, 'lonely': 916, 'position': 1468, 'rolling': 1592, 'nthese': 1305, 'mr': 1044, 'ndrop': 1110, 'haven': 699, 'hater': 695, 'drive': 444, 'nsaid': 1271, 'faster': 516, 'police': 1460, 'freeze': 592, 'suck': 1848, 'steel': 1814, 'check': 263, 'cold': 312, 'type': 1981, 'sky': 1727, 'seeds': 1646, 'nput': 1262, 'holdin': 733, 'nknow': 1185, '12': 3, 'piece': 1425, 'tone': 1930, 'dollar': 421, 'level': 886, 'paper': 1399, 'clothes': 301, 'ntry': 1320, 'close': 298, 'walking': 2018, 'looks': 923, 'arms': 48, 'summer': 1853, 'records': 1551, 'te': 1880, 'bump': 201, 'movie': 1041, 'suckers': 1850, 'looked': 920, 'children': 270, 'language': 856, 'comes': 316, 'came': 227, 'legend': 879, 'jealous': 792, 'inch': 773, 'barely': 80, 'needs': 1116, 'bent': 102, 'south': 1771, 'queens': 1517, 'mme': 1017, 'bridge': 178, 'sipping': 1717, 'filled': 542, 'slim': 1735, 'nis': 1178, 'blast': 122, 'west': 2050, 'quiet': 1522, 'ma': 947, 'freedom': 591, 'sheets': 1674, 'fam': 508, 'say': 1622, 'cock': 308, 'missing': 1011, 'scary': 1627, 'right': 1575, 'murdered': 1046, 'child': 269, 'projects': 1494, 'les': 881, 'fallin': 506, 'new': 1123, 'guy': 670, 'nlive': 1199, 'main': 954, 'words': 2084, 'nmost': 1219, 'signs': 1707, 'rocking': 1586, 'chase': 261, 'tv': 1977, 'hope': 751, 'im': 771, 'nill': 1174, 'vest': 1998, 'return': 1564, 'shoes': 1683, 'avec': 62, 'nme': 1216, 'voice': 2008, 'van': 1996, 'pocket': 1456, 'nigga': 1170, 'tryin': 1969, 'nthink': 1307, 'roof': 1594, 'westside': 2051, 'greatest': 656, 'youre': 2115, 'dip': 408, 'shame': 1668, 'dogs': 418, 'stones': 1823, 'liquor': 899, 'nheard': 1155, 'nboy': 1085, 'push': 1508, 'story': 1828, 'stick': 1819, 'boy': 165, 'twisted': 1980, 'kush': 846, 'slang': 1728, 'nwon': 1360, 'spoke': 1786, 'page': 1392, 'thinkin': 1900, 'mics': 995, 'whats': 2053, 'lunch': 942, 'boyfriend': 166, 'bien': 108, 'getting': 617, 'mile': 998, '2pac': 5, 'nyoung': 1369, 'pack': 1390, 'reach': 1541, 'ntell': 1298, 'ntook': 1319, 'dome': 423, 'telling': 1889, 'kings': 833, 'spittin': 1783, 'addicted': 19, 'rough': 1599, 'sweet': 1864, 'shell': 1675, 'diss': 411, 'fan': 512, 'rocks': 1587, 'shoulda': 1693, 'lovin': 937, 'known': 843, 'buzz': 217, 'food': 575, 'gin': 622, 'fly': 567, 'shady': 1665, 'songs': 1764, 'chains': 254, 'maybe': 976, 'hill': 724, 'cocaine': 307, 'guys': 671, 'york': 2113, 'bullet': 198, 'mouth': 1038, 'struggle': 1840, 'party': 1404, 'dr': 433, 'mention': 986, 'album': 35, 'dem': 391, 'hi': 720, 'suis': 1851, 'moved': 1039, 'nwell': 1345, 'nstraight': 1294, 'nup': 1332, 'basement': 83, 'nthough': 1309, 'cats': 245, 'grow': 664, 'evil': 484, 'phone': 1419, 'shine': 1676, 'mc': 977, 'played': 1448, 'stage': 1796, 'talking': 1874, 'dawn': 381, 'ball': 73, 'pop': 1463, 'microphone': 994, 'gets': 615, 'come': 315, 'sit': 1720, 'seat': 1641, 'murder': 1045, 'dick': 398, 'cool': 326, 'deck': 388, 'walked': 2016, 'sean': 1639, 'est': 480, 'hop': 750, 'screen': 1635, 'eatin': 469, 'dust': 458, 'fighting': 540, 'hands': 680, 'neverybody': 1121, 'ngirls': 1140, 'good': 646, 'bubble': 192, 'couldn': 333, 'dogg': 417, 'unit': 1990, 'nplay': 1255, 'loud': 931, 'camera': 228, 'ago': 24, 'pac': 1389, 'bail': 72, 'real': 1544, 'comin': 317, 'couch': 332, 'nalways': 1055, 'stomach': 1821, 'pill': 1427, 'partner': 1403, 'bitch': 117, 'change': 258, 'couplet': 338, 'nwould': 1362, 'pressure': 1481, 'cousin': 341, 'worry': 2089, 'later': 860, 'nwhile': 1353, 'mix': 1014, 'nthrow': 1313, '50': 10, 'faggot': 498, 'nlookin': 1204, 'break': 172, 'nask': 1064, 'chips': 273, 'clock': 297, 'fade': 497, 'ne': 1111, 'ou': 1383, 'jackson': 785, 'rollin': 1591, 'bucks': 194, 'dollars': 422, 'shoulders': 1695, 'taught': 1879, 'squeeze': 1793, 'fall': 505, 'gotta': 648, 'wouldn': 2093, 'ntrying': 1322, 'ran': 1530, 'did': 399, 'beef': 95, 'wreck': 2095, 'nat': 1066, 'puttin': 1510, 'treat': 1950, 'circle': 285, 'takes': 1869, 'law': 863, 'weekend': 2044, 'wheels': 2055, 'nlord': 1206, 'nwho': 1355, 'dot': 429, 'kids': 821, 'nstay': 1290, 'drinkin': 442, 'great': 655, 'nsoon': 1288, 'life': 890, 'gat': 611, 'mind': 1003, 'mom': 1022, 'nwant': 1340, 'dudes': 456, 'trying': 1970, 'woman': 2077, 'x2': 2102, 'dress': 439, 'nfuck': 1132, 'neven': 1119, 'half': 675, 'fuckin': 599, 'ce': 249, 'candy': 229, 'il': 768, 'po': 1455, 'set': 1659, 'spent': 1779, 'champagne': 256, 'killin': 827, 'ncause': 1097, 'miss': 1008, 'notes': 1246, 'mood': 1030, 'worse': 2090, 'cop': 327, 'happy': 687, 'dawg': 380, 'afford': 21, 'wanted': 2023, 'world': 2088, 'screw': 1636, 'college': 313, 'harder': 690, 'moms': 1025, 'nstep': 1291, 'quarter': 1514, 'raise': 1528, 'throwin': 1910, 'beach': 88, 'flex': 560, 'pistol': 1435, 'chose': 278, 'standing': 1799, 'race': 1525, 'burn': 204, 'nfresh': 1130, 'going': 640, 'nturn': 1324, 'daddy': 368, 'date': 378, 'nbeen': 1077, 'stopped': 1825, 'uncle': 1986, 'shoot': 1685, 'somethin': 1761, 'es': 478, 'gots': 647, 'chill': 271, 'plain': 1438, 'shoe': 1682, 'hold': 732, 'bars': 82, 'gas': 610, 'al': 34, 'glass': 630, 'trouble': 1961, 'nblack': 1084, 'mike': 997, 'names': 1058, 'problems': 1491, 'government': 649, 'million': 1001, 'snow': 1754, 'plus': 1454, 'town': 1941, 'deep': 389, 'mma': 1016, 'deserve': 393, 'settle': 1660, 'rock': 1584, 'window': 2067, 'ngot': 1145, 'luck': 940, 'home': 740, 'wake': 2014, 'actin': 14, 'missed': 1009, 'day': 382, 'park': 1402, 'tout': 1940, 'prove': 1498, 'tu': 1972, 'pretty': 1483, 'finna': 549, 'tomorrow': 1928, 'bay': 87, 'pain': 1394, 'nhold': 1163, 'expect': 488, 'dry': 452, 'mean': 978, 'lie': 888, 'brains': 169, 'spit': 1782, 'nused': 1333, 'fiends': 537, 'slick': 1733, 'hot': 753, 'ha': 672, 'sip': 1715, 'ngetting': 1138, 'bet': 106, 'takin': 1870, 'nleave': 1190, 'clips': 295, 'men': 984, 'soon': 1765, 'ahead': 26, 'clouds': 302, 'release': 1555, 'cube': 359, 'bodies': 141, 'common': 320, 'small': 1741, 'nwhite': 1354, 'runnin': 1608, 'nwhen': 1349, 'proud': 1497, 'def': 390, 'nmais': 1209, 'leg': 878, 'uptown': 1992, 'rolled': 1590, 'nthen': 1303, 'ai': 27, 'knocked': 840, 'industry': 774, 'nrun': 1270, 'lights': 893, 'ak': 33, 'millions': 1002, 'class': 289, 'glad': 629, 'thirty': 1902, 'coat': 306, 'star': 1800, 'breathe': 175, 'ray': 1540, 'smack': 1740, 'sharp': 1671, 'outro': 1385, 'kept': 813, 'shop': 1688, 'long': 917, 'fake': 504, 'calls': 225, 'til': 1917, 'double': 430, 'dead': 384, 'll': 910, 'attack': 57, 'flavor': 558, 'mo': 1018, 'feelings': 529, 'apple': 46, 'died': 402, 'nwhether': 1351, 'nights': 1173, 'club': 304, 'nwhatever': 1348, 'nhalf': 1152, 'stone': 1822, 'brown': 191, 'npop': 1258, 'nafter': 1050, 'martin': 968, 'strapped': 1832, 'funk': 602, 'nall': 1054, 'corners': 330, 'trapped': 1947, 'nnext': 1225, 'death': 387, 'nlisten': 1197, 'pockets': 1457, 'away': 64, 'dj': 412, 'nit': 1179, 'nlittle': 1198, 'daughter': 379, 'nby': 1090, 'bro': 182, 'keys': 815, 'american': 40, 'vie': 2002, 'asked': 52, 'truth': 1967, 'nfuckin': 1133, 'space': 1772, 'soldiers': 1758, 'remain': 1556, 'skin': 1726, 'ncame': 1093, 'nhad': 1150, 'wet': 2052, 'motherfucking': 1037, 'brought': 190, 'grass': 653, 'kicked': 817, 'working': 2087, 'facts': 496, 'turn': 1974, 'nthem': 1302, 'gucci': 666, 'fact': 495, 'weight': 2047, 'nmama': 1212, 'lyin': 943, 'spark': 1773, 'fault': 520, 'nwill': 1357, 'barrel': 81, 'nlong': 1202, 'told': 1927, 'tripping': 1960, 'running': 1609, 'table': 1868, 'wonder': 2080, 'past': 1409, 'light': 892, 'box': 164, 'hollow': 738, 'busta': 211, 'rat': 1538, 'ntime': 1315, 'cops': 328, 'outside': 1386, 'ounce': 1384, 'scream': 1632, 'ring': 1577, 'nmade': 1208, 'order': 1381, 'nlove': 1207, 'nbreak': 1086, 'sex': 1662, 'horse': 752, 'lover': 935, 'role': 1588, 'silence': 1708, 'grave': 654, 'pas': 1405, 'square': 1792, 'add': 18, 'bank': 78, 'blame': 121, 'nwake': 1337, 'homeboy': 741, 'steal': 1813, 'bustin': 212, 'lame': 853, 'hoes': 731, 'fucked': 598, 'nbefore': 1078, 'chicken': 267, 'motherfuckin': 1036, 'hella': 714, 'nsi': 1280, 'matter': 974, 'hangin': 682, 'na': 1048, 'nbitches': 1083, 'smokin': 1748, 'isn': 783, 'kanye': 811, 'arm': 47, 'soft': 1755, 'hero': 718, 'tec': 1885, 'focus': 570, 'sucker': 1849, 'state': 1808, 'non': 1238, 'wild': 2064, 'locked': 915, 'speak': 1774, 'sure': 1858, 'nhave': 1153, 'owe': 1388, 'nprobably': 1260, 'night': 1172, 'wine': 2069, 'wasn': 2027, 'stuck': 1841, 'really': 1547, 'shook': 1684, 'relax': 1554, 'special': 1776, 'blocks': 130, 'nature': 1068, 'cost': 331, 'jewels': 798, 'figure': 541, 'wheel': 2054, 'lock': 914, 'nthat': 1299, 'minute': 1005, 'fat': 517, 'cat': 243, 'smell': 1744, 'nout': 1251, 'hang': 681, 'stop': 1824, 'attitude': 59, 'dropped': 448, 'squad': 1791, 'sound': 1769, 'looking': 922, 'feed': 525, 'dyin': 459, 'walk': 2015, 'nman': 1213, 'ncuz': 1102, 'whore': 2060, 'forever': 581, 'warm': 2026, 'ugly': 1982, 'driving': 445, 'sellin': 1651, 'kool': 845, 'bentley': 103, 'people': 1416, 'doors': 427, 'throw': 1909, 'group': 663, 'snap': 1751, 'stash': 1807, 'lot': 930, 'play': 1446, 'nha': 1149, 'battle': 86, 'bow': 163, 'busy': 213, 'shoulder': 1694, 'trust': 1966, 'end': 474, 'nbaby': 1072, 'left': 877, 'joe': 800, 'cali': 221, 'extra': 490, 'iron': 781, 'fed': 523, 'wide': 2062, 'carry': 236, 'selling': 1652, 'brand': 170, 'stacks': 1795, 'test': 1890, 'grip': 661, 'stress': 1836, 'chronic': 283, 'recognize': 1549, 'island': 782, 'wings': 2070, 'booty': 153, 'tous': 1939, 'nfive': 1127, 'foot': 578, 'chick': 266, 'famous': 511, 'flow': 565, 'chicks': 268, 'clap': 288, 'nya': 1364, 'dinner': 407, 'glocks': 634, 'rockin': 1585, 'son': 1762, 'red': 1552, 'cup': 361, 'future': 605, 'power': 1475, 'ladies': 850, 'bear': 89, 'alright': 37, 'ndown': 1109, 'feet': 531, 'swear': 1862, 'hate': 693, 'lucky': 941, 'bone': 146, 'triple': 1958, 'nwith': 1358, 'talk': 1872, 'rhythm': 1567, 'caught': 246, 'fun': 601, 'bags': 71, 'knew': 837, 'nooh': 1241, 'don': 424, 'leaving': 875, 'learn': 869, 'jones': 804, 'peace': 1413, 'toe': 1925, 'ngettin': 1137, 've': 1997, 'pants': 1398, 'ocean': 1371, 'sin': 1711, 'sent': 1656, 'flag': 554, 'bound': 161, 'moi': 1021, 'happen': 684, 'nits': 1180, 'bush': 208, 'way': 2034, 'christmas': 281, 'heart': 707, 'nle': 1189, 'nwalk': 1338, 'eye': 491, 'trees': 1952, 'letter': 885, 'ok': 1373, 'npicture': 1254, 'friends': 595, 'styles': 1846, 'bottles': 158, 'swag': 1860, 'want': 2022, 'nfirst': 1126, 'pimp': 1429, 'carter': 238, 'pride': 1485, 'nwelcome': 1344, 'mall': 962, 'dont': 425, 'jam': 787, 'hustle': 763, 'family': 510, 'metal': 991, 'bills': 112, 'pull': 1501, 'movin': 1042, 'ils': 770, '45': 9, 'pair': 1396, 'bunch': 202, 'pump': 1503, 'michael': 993, 'question': 1518, 'dying': 460, 'fingers': 546, 'loot': 925, 'girlfriend': 624, 'target': 1877, 'doctor': 413, 'wipe': 2072, 'nsay': 1273, 'course': 339, 'villain': 2004, 'begin': 97, 'nopen': 1242, 'nd': 1103, 'weezy': 2046, 'noh': 1235, 'jet': 796, 'makes': 958, 'bass': 84, 'competition': 321, 'house': 757, 'du': 453, 'started': 1804, 'gods': 637, 'nwanna': 1339, 'holes': 736, 'witness': 2076, 'built': 197, 'mal': 961, 'tree': 1951, 'finger': 545, 'remember': 1557, 'passed': 1407, 'givin': 627, 'stay': 1810, 'insane': 776, 'naw': 1069, 'nonce': 1239, 'nfour': 1129, 'ease': 465, 'explain': 489, 'askin': 53, 'pictures': 1423, 'throne': 1908, 'sand': 1617, 'time': 1919, 'keeps': 812, 'fore': 580, 'nmy': 1221, 'ice': 766, 'nbust': 1088, 'open': 1380, 'shit': 1680, 'admit': 20, 'blessed': 126, 'weed': 2042, 'woo': 2081, 'gift': 620, 'fresh': 593, 'ndo': 1106, 'quit': 1523, 'public': 1499, 'nevery': 1120, 'smart': 1742, 'code': 310, 'business': 209, 'beats': 92, 'trade': 1944, 'room': 1595, 'shot': 1691, 'jeep': 794, 'stole': 1820, 'wearing': 2040, 'women': 2078, 'fiend': 536, 'gay': 614, 'send': 1654, 'dealer': 386, 'goddamn': 636, 'nla': 1187, 'word': 2083, 'screaming': 1634, 'repeat': 1560, 'satan': 1619, 'questions': 1519, 'tried': 1955, 'slave': 1730, 'mission': 1012, 'diamonds': 396, 'weather': 2041, 'nbe': 1075, 'ny': 1363, 'drop': 447, 'nour': 1249, 'nget': 1136, 'crack': 343, 'kitchen': 835, 'whips': 2057, 'speed': 1777, 'scene': 1628, 'singing': 1713, 'folks': 573, 'rope': 1596, 'bite': 119, 'damn': 370, 'sweat': 1863, 'ncome': 1099, 'crib': 350, 'cards': 233, 'jewelry': 797, 'nplus': 1257, 'machine': 949, 'project': 1493, 'ron': 1593, 'named': 1057, 'steady': 1812, 'meet': 982, 'nrap': 1263, 'follow': 574, 'count': 334, 'purple': 1507, 'shorty': 1690, 'self': 1649, 'realize': 1546, 'rush': 1610, 'help': 716, 'snatch': 1752, 'bought': 159, 'meant': 980, 'exactly': 486, 'nje': 1182, 'single': 1714, 'gonna': 645, 'stupid': 1844, 'creep': 347, 'nmoney': 1217, 'headed': 703, 'bleed': 124, 'hated': 694, 'fools': 577, 'weapon': 2038, 'wack': 2009, 'years': 2109, 'flying': 568, 'motherfuckers': 1035, 'year': 2108, 'lost': 929, 'losing': 928, 'means': 979, 'james': 788, 'hungry': 760, 'supposed': 1856, 'lives': 907, 'fold': 572, 'minutes': 1006, 'nothin': 1247, 'job': 799, 'throat': 1907, 'body': 142, 'dough': 432, 'bomb': 143, 'changed': 259, 'wind': 2066, 'nsomething': 1286, 'straight': 1829, 'block': 129, 'violence': 2005, 'turned': 1975}\n"
     ]
    }
   ],
   "source": [
    "vectorizer = TfidfVectorizer(stop_words = \"english\", max_df = 0.7, min_df = 75)\n",
    "lyric_matrix = vectorizer.fit_transform([song[\"lyrics\"] for song in songs]).transpose()\n",
    "\n",
    "u, s, v = svds(lyric_matrix, k=100)\n",
    "words_compressed, _, docs_compressed = svds(lyric_matrix, k = 40)\n",
    "docs_compressed = docs_compressed.transpose()\n",
    "\n",
    "print(words_compressed.shape)\n",
    "print(docs_compressed.shape)\n",
    "\n",
    "word_to_index = vectorizer.vocabulary_\n",
    "print(word_to_index)\n",
    "index_to_word = {i:t for t,i, in word_to_index.items()}\n",
    "words_compressed = normalize(words_compressed, axis =1)"
   ]
  },
  {
   "cell_type": "code",
   "execution_count": 4,
   "metadata": {},
   "outputs": [
    {
     "name": "stdout",
     "output_type": "stream",
     "text": [
      "[t-SNE] Computing pairwise distances...\n",
      "[t-SNE] Computing 91 nearest neighbors...\n",
      "[t-SNE] Computed conditional probabilities for sample 1000 / 4544\n",
      "[t-SNE] Computed conditional probabilities for sample 2000 / 4544\n",
      "[t-SNE] Computed conditional probabilities for sample 3000 / 4544\n",
      "[t-SNE] Computed conditional probabilities for sample 4000 / 4544\n",
      "[t-SNE] Computed conditional probabilities for sample 4544 / 4544\n",
      "[t-SNE] Mean sigma: 0.022457\n",
      "[t-SNE] KL divergence after 100 iterations with early exaggeration: 1.381635\n",
      "[t-SNE] Error after 125 iterations: 1.381635\n",
      "4, 3, 2, 1\n",
      "313:0.666\n",
      "Tres Leches (Triboro Trilogy):0.618\n",
      "Pass the Courvoisier Part II:0.617\n",
      "Mighty O:0.593\n",
      "Full Clip:0.584\n",
      "Jump Around:0.569\n",
      "Freestyle Or Written:0.566\n",
      "What's Your Fantasy (Remix):0.557\n",
      "Shame On A Nigga:0.555\n",
      "Instigator:0.554\n",
      "\n",
      "My Favorite Ladies\n",
      "Passin' Me By:0.831\n",
      "Seatbelt Hands:0.817\n",
      "Blue Dolphin:0.813\n",
      "Billie Jean:0.792\n",
      "90210:0.791\n",
      "Dr. Aden:0.784\n",
      "Prom Queen:0.775\n",
      "Miami 2 Ibiza:0.774\n",
      "Dirty Diana:0.768\n",
      "Exxxes:0.768\n",
      "\n",
      "Slow and Low\n",
      "Acid Raindrops:0.803\n",
      "Let's Get Dirty:0.782\n",
      "Body Movin':0.768\n",
      "Let It Be:0.751\n",
      "Let Me Get Down:0.747\n",
      "Lisztomania:0.724\n",
      "Do It:0.713\n",
      "Let's Get Fucked Up:0.698\n",
      "Let's Go:0.670\n",
      "Notorious Thugs:0.667\n",
      "\n",
      "Otherside\n",
      "The Instrumental:0.701\n",
      "A Life in the Day of Benjamin Andre (Inc:0.687\n",
      "Yesterday:0.685\n",
      "The Way I Am:0.679\n",
      "Careful What You Wish For:0.642\n",
      "Renegade:0.631\n",
      "It Has Been Said:0.627\n",
      "Respect:0.624\n",
      "Great Day:0.611\n",
      "Holy Smokes:0.602\n",
      "\n",
      "Code Barbe\n",
      "La Fièvre:0.992\n",
      "Enfant du destin (Kounta Kinté):0.986\n",
      "94:0.986\n",
      "Hiro:0.985\n",
      "Mathusalem:0.984\n",
      "Ramenez-les:0.983\n",
      "La lettre:0.979\n",
      "French Riviera:0.976\n",
      "Boulbi:0.976\n",
      "Pitbull:0.976\n",
      "\n",
      "DJ Got Us Fallin' in Love\n",
      "I Know:0.740\n",
      "Rewind:0.678\n",
      "Sure Thing:0.643\n",
      "I'm Not A Player:0.631\n",
      "I'll Give All My Love To You:0.616\n",
      "Wicked Games:0.611\n",
      "Caught Up in the Rapture:0.606\n",
      "Dazed and Confused:0.604\n",
      "With You:0.602\n",
      "Too Cold:0.601\n",
      "\n",
      "How Do You Do It\n",
      "No Passion:0.794\n",
      "Sebelum Cahaya:0.764\n",
      "Code Monkey:0.759\n",
      "Perfect:0.753\n",
      "Alive:0.750\n",
      "Badfish:0.746\n",
      "Here In Your Presence:0.738\n",
      "Why Generation:0.726\n",
      "Back To December:0.724\n",
      "Midnight Show:0.720\n",
      "\n",
      "Hush\n",
      "Tommy The Cat:0.728\n",
      "Meiplé:0.711\n",
      "Shimmy Shimmy Ya:0.688\n",
      "Motivation:0.667\n",
      "Listen!!!:0.627\n",
      "Come On Baby:0.619\n",
      "So Amazing:0.589\n",
      "Got This Money:0.585\n",
      "One Call Away:0.580\n",
      "Oh Bo (Studio):0.569\n",
      "\n",
      "5 O'Clock\n",
      "Rocket Man (I Think It's Going to Be a L:0.667\n",
      "Complications:0.607\n",
      "They Reminisce Over You (T.R.O.Y.):0.593\n",
      "Officer:0.583\n",
      "Police in helicopter:0.580\n",
      "Black Superman:0.576\n",
      "Second Round K.O.:0.575\n",
      "Looking Down the Barrel of a Gun:0.573\n",
      "Sunshine:0.557\n",
      "People Everyday:0.553\n",
      "\n",
      "Gingerbread Man\n",
      "Bingo:0.675\n",
      "Stupid Wild:0.634\n",
      "Different (Feel It All Around):0.608\n",
      "Make tha Trap Say Aye:0.604\n",
      "Kush Is My Cologne:0.598\n",
      "All Tan Everything:0.593\n",
      "Swag Surfin:0.593\n",
      "I Get Paper:0.591\n",
      "You're Da Man:0.590\n",
      "Speaking in Tongues (Freestyle):0.581\n",
      "\n"
     ]
    }
   ],
   "source": [
    "tsne = TSNE(verbose=1)\n",
    "projected_docs = tsne.fit_transform(docs_compressed)\n",
    "\n",
    "docs_compressed = normalize(docs_compressed, axis=1)\n",
    "\n",
    "def closest_songs(project_index_in, k=10):\n",
    "\tsims = docs_compressed.dot(docs_compressed[project_index_in,:])\n",
    "\tasort = np.argsort(-sims)[:k+1]\n",
    "\treturn [(songs[i][\"title\"], sims[i]/sims[asort[0]]) for i in asort[1:]]\n",
    "\n",
    "for i in range(10):\n",
    "\tprint(songs[i][\"title\"])\n",
    "\tfor title, score in closest_songs(i):\n",
    "\t\tprint(\"{}:{:.3f}\".format(title[:40], score))\n",
    "\tprint()"
   ]
  },
  {
   "cell_type": "code",
   "execution_count": 8,
   "metadata": {},
   "outputs": [
    {
     "name": "stdout",
     "output_type": "stream",
     "text": [
      "[-0.11891473 -0.26548626  0.21844508 -0.01728063 -0.06813676 -0.14546947\n",
      " -0.20154515 -0.07669739 -0.1464848   0.00771363 -0.00548259  0.0862444\n",
      " -0.17161614 -0.25266379 -0.02505389 -0.16431443 -0.11432773 -0.03021782\n",
      " -0.24826639  0.20361476  0.06523567 -0.18614098  0.03771754  0.05361473\n",
      " -0.1127187   0.41676542 -0.15419024  0.16910841  0.02351737  0.25466298\n",
      " -0.03605542 -0.00538426  0.011335   -0.04147829 -0.28644682 -0.05429956\n",
      "  0.06326918 -0.21121065  0.02032675  0.2085351 ]\n"
     ]
    }
   ],
   "source": [
    "print(docs_compressed[1,:])"
   ]
  },
  {
   "cell_type": "code",
   "execution_count": 9,
   "metadata": {},
   "outputs": [
    {
     "ename": "ValueError",
     "evalue": "max_df corresponds to < documents than min_df",
     "output_type": "error",
     "traceback": [
      "\u001b[0;31m---------------------------------------------------------------------------\u001b[0m",
      "\u001b[0;31mValueError\u001b[0m                                Traceback (most recent call last)",
      "\u001b[0;32m<ipython-input-9-ca5d172fa9a9>\u001b[0m in \u001b[0;36m<module>\u001b[0;34m()\u001b[0m\n\u001b[0;32m----> 1\u001b[0;31m \u001b[0mquery_mat\u001b[0m \u001b[0;34m=\u001b[0m \u001b[0mvectorizer\u001b[0m\u001b[0;34m.\u001b[0m\u001b[0mfit_transform\u001b[0m\u001b[0;34m(\u001b[0m\u001b[0;34m[\u001b[0m\u001b[0;34m\"Lets hang out tomorrow, when are you free?\"\u001b[0m\u001b[0;34m]\u001b[0m\u001b[0;34m)\u001b[0m\u001b[0;34m.\u001b[0m\u001b[0mtranspose\u001b[0m\u001b[0;34m(\u001b[0m\u001b[0;34m)\u001b[0m\u001b[0;34m\u001b[0m\u001b[0m\n\u001b[0m",
      "\u001b[0;32m/Library/Frameworks/Python.framework/Versions/3.5/lib/python3.5/site-packages/sklearn/feature_extraction/text.py\u001b[0m in \u001b[0;36mfit_transform\u001b[0;34m(self, raw_documents, y)\u001b[0m\n\u001b[1;32m   1330\u001b[0m             \u001b[0mTf\u001b[0m\u001b[0;34m-\u001b[0m\u001b[0midf\u001b[0m\u001b[0;34m-\u001b[0m\u001b[0mweighted\u001b[0m \u001b[0mdocument\u001b[0m\u001b[0;34m-\u001b[0m\u001b[0mterm\u001b[0m \u001b[0mmatrix\u001b[0m\u001b[0;34m.\u001b[0m\u001b[0;34m\u001b[0m\u001b[0m\n\u001b[1;32m   1331\u001b[0m         \"\"\"\n\u001b[0;32m-> 1332\u001b[0;31m         \u001b[0mX\u001b[0m \u001b[0;34m=\u001b[0m \u001b[0msuper\u001b[0m\u001b[0;34m(\u001b[0m\u001b[0mTfidfVectorizer\u001b[0m\u001b[0;34m,\u001b[0m \u001b[0mself\u001b[0m\u001b[0;34m)\u001b[0m\u001b[0;34m.\u001b[0m\u001b[0mfit_transform\u001b[0m\u001b[0;34m(\u001b[0m\u001b[0mraw_documents\u001b[0m\u001b[0;34m)\u001b[0m\u001b[0;34m\u001b[0m\u001b[0m\n\u001b[0m\u001b[1;32m   1333\u001b[0m         \u001b[0mself\u001b[0m\u001b[0;34m.\u001b[0m\u001b[0m_tfidf\u001b[0m\u001b[0;34m.\u001b[0m\u001b[0mfit\u001b[0m\u001b[0;34m(\u001b[0m\u001b[0mX\u001b[0m\u001b[0;34m)\u001b[0m\u001b[0;34m\u001b[0m\u001b[0m\n\u001b[1;32m   1334\u001b[0m         \u001b[0;31m# X is already a transformed view of raw_documents so\u001b[0m\u001b[0;34m\u001b[0m\u001b[0;34m\u001b[0m\u001b[0m\n",
      "\u001b[0;32m/Library/Frameworks/Python.framework/Versions/3.5/lib/python3.5/site-packages/sklearn/feature_extraction/text.py\u001b[0m in \u001b[0;36mfit_transform\u001b[0;34m(self, raw_documents, y)\u001b[0m\n\u001b[1;32m    839\u001b[0m             \u001b[0;32mif\u001b[0m \u001b[0mmax_doc_count\u001b[0m \u001b[0;34m<\u001b[0m \u001b[0mmin_doc_count\u001b[0m\u001b[0;34m:\u001b[0m\u001b[0;34m\u001b[0m\u001b[0m\n\u001b[1;32m    840\u001b[0m                 raise ValueError(\n\u001b[0;32m--> 841\u001b[0;31m                     \"max_df corresponds to < documents than min_df\")\n\u001b[0m\u001b[1;32m    842\u001b[0m             X, self.stop_words_ = self._limit_features(X, vocabulary,\n\u001b[1;32m    843\u001b[0m                                                        \u001b[0mmax_doc_count\u001b[0m\u001b[0;34m,\u001b[0m\u001b[0;34m\u001b[0m\u001b[0m\n",
      "\u001b[0;31mValueError\u001b[0m: max_df corresponds to < documents than min_df"
     ]
    }
   ],
   "source": [
    "query_mat = vectorizer.fit_transform([\"Lets hang out tomorrow, when are you free?\"]).transpose()\n"
   ]
  },
  {
   "cell_type": "code",
   "execution_count": null,
   "metadata": {},
   "outputs": [],
   "source": []
  },
  {
   "cell_type": "code",
   "execution_count": null,
   "metadata": {},
   "outputs": [],
   "source": []
  }
 ],
 "metadata": {
  "kernelspec": {
   "display_name": "Python 3",
   "language": "python",
   "name": "python3"
  },
  "language_info": {
   "codemirror_mode": {
    "name": "ipython",
    "version": 3
   },
   "file_extension": ".py",
   "mimetype": "text/x-python",
   "name": "python",
   "nbconvert_exporter": "python",
   "pygments_lexer": "ipython3",
   "version": "3.5.2"
  }
 },
 "nbformat": 4,
 "nbformat_minor": 2
}
