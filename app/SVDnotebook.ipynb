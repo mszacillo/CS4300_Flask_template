{
 "cells": [
  {
   "cell_type": "code",
   "execution_count": 2,
   "metadata": {},
   "outputs": [],
   "source": [
    "import numpy as np\n",
    "import json\n",
    "import re\n",
    "from sklearn.feature_extraction.text import TfidfVectorizer\n",
    "from scipy.sparse.linalg import svds\n",
    "import matplotlib\n",
    "import matplotlib.pyplot as plt\n",
    "from sklearn.preprocessing import normalize\n",
    "from sklearn.manifold import TSNE"
   ]
  },
  {
   "cell_type": "code",
   "execution_count": 16,
   "metadata": {
    "collapsed": true
   },
   "outputs": [],
   "source": [
    "# def tokenize_transcript(transcripts):\n",
    "# \tfor idx, song in enumerate(transcripts):\n",
    "# \t\tlyrics = song[\"lyrics\"]\n",
    "# \t\tlyrics = lyrics.replace(\"\\\\n\", \" \").replace(\"[Hook\", \" \").replace(\"[Verse\", \" \").replace(\"b\", \" \", 1)\n",
    "# \t\ttranscripts[idx][\"lyrics\"] = re.findall(r\"[a-z]+\", lyrics.lower())\n",
    "\n",
    "# \treturn transcripts\n",
    "\n",
    "with open(\"songData.json\", \"r\") as f:\n",
    "\tsong_transcripts = json.load(f)\n",
    "\n",
    "\n",
    "songs = list(song_transcripts.values())\n",
    "# songs = tokenize_transcript(songs)\n",
    "# print(songs[0])"
   ]
  },
  {
   "cell_type": "code",
<<<<<<< HEAD
   "execution_count": 47,
=======
   "execution_count": 38,
>>>>>>> 17933aa1c2021a3edea7f16bb588a60a7dae00f9
   "metadata": {},
   "outputs": [
    {
     "name": "stdout",
     "output_type": "stream",
     "text": [
      "(4545, 40)\n"
     ]
    }
   ],
   "source": [
    "vectorizer = TfidfVectorizer(stop_words = \"english\")\n",
    "songlist = [song[\"lyrics\"] for song in songs]\n",
    "songlist.append(\"go away\")\n",
    "lyric_matrix = vectorizer.fit_transform(songlist).transpose()\n",
<<<<<<< HEAD
    "print(lyric_matrix.shape)\n",
    "u, s, v = svds(lyric_matrix, k=100)\n",
=======
    "#print(lyric_matrix.shape)\n",
    "#u, s, v = svds(lyric_matrix, k=100)\n",
>>>>>>> 17933aa1c2021a3edea7f16bb588a60a7dae00f9
    "words_compressed, _, docs_compressed = svds(lyric_matrix, k = 40)\n",
    "docs_compressed = docs_compressed.transpose()\n",
    "print(docs_compressed.shape)\n",
    "\n",
    "word_to_index = vectorizer.vocabulary_\n",
    "\n",
    "index_to_word = {i:t for t,i, in word_to_index.items()}\n",
    "words_compressed = normalize(words_compressed, axis =1)"
   ]
  },
  {
   "cell_type": "code",
   "execution_count": 39,
   "metadata": {},
   "outputs": [
    {
     "data": {
      "text/plain": [
       "'\\nfor i in range(10):\\n\\tprint(songs[i][\"title\"])\\n\\tfor title, score in closest_songs(i):\\n\\t\\tprint(\"{}:{:.3f}\".format(title[:40], score))\\n\\tprint()\\n'"
      ]
     },
     "execution_count": 39,
     "metadata": {},
     "output_type": "execute_result"
    }
   ],
   "source": [
    "#tsne = TSNE(verbose=1)\n",
    "#projected_docs = tsne.fit_transform(docs_compressed)\n",
    "#print(projected_docs.shape)\n",
    "#plt.figure(figsize=(10,10))\n",
    "#plt.scatter(projected_docs[:,0], projected_docs[:,1])\n",
    "#plt.show()\n",
    "\n",
    "docs_compressed = normalize(docs_compressed, axis=1)\n",
    "\n",
    "\n",
    "def closest_songs(project_index_in, k=10):\n",
    "\tsims = docs_compressed.dot(docs_compressed[project_index_in,:])\n",
    "\tasort = np.argsort(-sims)[:k+1]\n",
    "\treturn [(songs[i][\"title\"], sims[i]/sims[asort[0]]) for i in asort[1:]]\n",
    "'''\n",
    "for i in range(10):\n",
    "\tprint(songs[i][\"title\"])\n",
    "\tfor title, score in closest_songs(i):\n",
    "\t\tprint(\"{}:{:.3f}\".format(title[:40], score))\n",
    "\tprint()\n",
    "'''   \n"
   ]
  },
  {
   "cell_type": "code",
<<<<<<< HEAD
   "execution_count": 46,
=======
   "execution_count": 42,
>>>>>>> 17933aa1c2021a3edea7f16bb588a60a7dae00f9
   "metadata": {},
   "outputs": [
    {
     "name": "stdout",
     "output_type": "stream",
     "text": [
<<<<<<< HEAD
      "b'\\n\\n[Intro: Jay-Z]\\nYou can\\'t roll a blunt to this one\\nYou gotta, you gotta well, ya gotta light a J\\nYou gotta puff a J on this one {*inhales*}\\nYou can\\'t even drink Crist-OWL on this one\\nYou gotta drink Crist-ALL\\nBuy some red wine, a little Gaja 9-7\\nThis is for the grown and sexy, uhh\\n\\n[Pharrell - over the end of Jay-Z\\'s intro]\\nYou\\'re so contagious, I can\\'t take it\\nHave my baby, let\\'s just make it\\nExcuse me; what\\'s your name?\\n\\n[Jay-Z: Hook]\\nYeah, can I get my grown man on for one second?\\nCause I see some ladies tonight\\nThat should be hangin\\' with Jay-Z, Jay-Z\\n(Pharrell: So hot to trot, lady!)\\nExcuse me miss, what\\'s your name?\\nCan you come, hang with me?\\nPossibly, can I take you out, tonight\\n\\n[Verse 1: Jay Z]\\nYou already know what it\\'s hittin\\' for\\nMa I got whatever outside and you know what I\\'m sittin\\' on\\n50/50 venture with them S Dots kickin\\' off\\nArmadale poppin\\' now, only bring a nigga more\\nOnly thing missin\\' is a Missus\\nYou ain\\'t even gotta do the dishes, got two dishwashers\\nGot one chef, one maid, all I need is a partner\\nTo play spades with the cards up, ALL TRUST\\nWho else you gon\\' run with, the truth is us\\nOnly dudes movin\\' units - Em, Pimp Juice and us\\n..it\\'s the Roc in here!\\nMaybach outside, got rocks in ears\\nPJ\\'s on the runway, Young got air\\nI don\\'t land at an airport, I call it the clearport\\nTherefore, I don\\'t wanna hear more\\nBack and forth about who\\'s hot as Young, holla!\\n\\n[Ph.W.] Sexcuse me... damn!\\n[Ph.W.] You\\'re so contagious, I can\\'t take it\\n[Ph.W.] Have my baby, let\\'s just make it\\n[Jay-Z] I got my Gaja 9-7 on right now\\n[Ph.W.] Lady\\n[Jay-Z] You gotta puff a J to this one\\n[Jay-Z] Can\\'t roll a blunt up to this one boy\\n[Ph.W.] You\\'re so contagious, I can\\'t take it\\n[Ph.W.] Have my baby, let\\'s just make it\\n[Ph.W.] Excuse me; what\\'s your name? (AOWW!)\\n[Jay-Z] Cause I see some ladies tonight\\nThat should be rollin\\' wit Jay-Z, Jay-Z\\n[Ph.W.] So hot to trot, lady, what\\'s your name?\\n[Jay-Z] Cause I see some ladies tonight\\nThat should be rollin\\' wit Jay-Z, Jay-Z\\n[Ph.W.] You\\'re so foxy girl.. you\\'re so hot to trot\\n\\n[Verse 2: Jay Z]\\nEverybody\\'s like, \"He\\'s no item! Please don\\'t like him\\nHe don\\'t wife \\'em, he one nights \\'em!\"\\nNow she don\\'t like him, she never met him\\nGroupies try to take advantage of him, he won\\'t let \\'em\\nHe don\\'t need \\'em, so he treats \\'em like he treats \\'em\\nBetter them than me, she don\\'t agree with him\\nShe\\'s mad at that, he\\'s not havin\\' that\\nSo those opposites attract like mag-a-nets\\nShe sees more than the Benz wagon, the friends taggin\\' along\\nWith a flashy nigga braggin\\' on the song\\nShe gets a glimpse of Shawn and she likes that\\nHe 2-ways her, so she writes back\\nSmiley faces after all of her phrases\\nEither she the one or I\\'m caught in \"The Matrix\"\\nBut fuck it, let the Fishburne\\nRed or green pill, you live and you learn, c\\'mon!\\n\\n[Ph.W.] Sex-cuse me, damn!\\n[Jay-Z] You gotta throw on your fine linens for this one\\n[Ph.W.] You\\'re so contagious, I can\\'t take it\\n[Ph.W.] Have my baby, let\\'s just make it\\n[Jay-Z] You might go, you mighta gotta go get you some Scooby Doo\\'s\\n[Ph.W.] Lady\\n[Jay-Z] Gotta throw on ya Scooby Doo\\'s; those are shoes by the way\\n[Ph.W.] You\\'re so contagious, I can\\'t take it\\n[Jay-Z] Gotta throw on Scooby Doo\\'s, hehehehe\\n[Ph.W.] Have my baby, let\\'s just make it\\n[Ph.W.] Excuse me; what\\'s your name?\\n[Jay-Z] This for the grown and sexy, only for the grown and sexy\\n[Ph.W.] So hot to trot, lady, what\\'s your name?\\n[Jay-Z] Woo!\\n[Ph.W.] You\\'re so foxy girl, you\\'re so hot to trot\\n\\n[Verse 3: Jay Z]\\nLove let\\'s go half on a son, I know my past ain\\'t one\\nYou can easily get past, but that chapter is done\\n...but I\\'m done readin\\' for now\\nRemember spades face up, you can believe him for now\\nBut ma you got a f\\'real f\\'serious role\\nI\\'m \\'bout to give you all the keys and security codes\\n\\'bout to show you where the cheese, let you know I ain\\'t playin\\'\\nBut, before I jump out the window, what\\'s your name?\\n\\n[Outro: Pharrell]\\nSex-cuse me, damn!\\nYou\\'re so contagious, I can\\'t take it\\nHave my baby, let\\'s just make it\\nLady\\nYou\\'re so contagious, I can\\'t take it\\nHave my baby, let\\'s just make it\\nExcuse me; what\\'s your name?\\nSo hot to trot, lady! What\\'s your name?\\nYou\\'re so foxy girl, you\\'re so hot to trot\\n\\n'\n"
=======
      "[(u'Wild Horses', 0.867114872124607), (u\"Runnin'\", 0.8555857166674825), (u'Slap', 0.8330602357600874), (u'Take Me Away', 0.8099121327029364), (u'Fly Away', 0.7602218306093043), (u'Up Up & Away', 0.7418489003260742), (u'Yesterday', 0.7038242336961213), (u'Beautiful Bliss', 0.6939507830039919), (u'One Call Away', 0.6906954190774769), (u'Paper, Scissors, Rock', 0.6858247271715243)]\n"
>>>>>>> 17933aa1c2021a3edea7f16bb588a60a7dae00f9
     ]
    }
   ],
   "source": [
    "print(songlist[-2])"
   ]
  },
  {
   "cell_type": "code",
<<<<<<< HEAD
   "execution_count": 44,
   "metadata": {},
   "outputs": [
    {
     "name": "stdout",
     "output_type": "stream",
     "text": [
      "(4, 1)\n"
     ]
    },
    {
     "name": "stderr",
     "output_type": "stream",
     "text": [
      "/Library/Frameworks/Python.framework/Versions/3.5/lib/python3.5/site-packages/sklearn/feature_extraction/text.py:1039: FutureWarning: Conversion of the second argument of issubdtype from `float` to `np.floating` is deprecated. In future, it will be treated as `np.float64 == np.dtype(float).type`.\n",
      "  if hasattr(X, 'dtype') and np.issubdtype(X.dtype, np.float):\n"
     ]
    },
    {
=======
   "execution_count": 15,
   "metadata": {},
   "outputs": [
    {
>>>>>>> 17933aa1c2021a3edea7f16bb588a60a7dae00f9
     "ename": "ValueError",
     "evalue": "Iterable over raw text documents expected, string object received.",
     "output_type": "error",
     "traceback": [
      "\u001b[0;31m---------------------------------------------------------------------------\u001b[0m",
      "\u001b[0;31mValueError\u001b[0m                                Traceback (most recent call last)",
<<<<<<< HEAD
      "\u001b[0;32m<ipython-input-44-a143f119ec5f>\u001b[0m in \u001b[0;36m<module>\u001b[0;34m()\u001b[0m\n\u001b[1;32m      1\u001b[0m \u001b[0mquery_matrix\u001b[0m \u001b[0;34m=\u001b[0m \u001b[0mvectorizer\u001b[0m\u001b[0;34m.\u001b[0m\u001b[0mfit_transform\u001b[0m\u001b[0;34m(\u001b[0m\u001b[0;34m[\u001b[0m\u001b[0;34m\"good morning how are you doing today\"\u001b[0m\u001b[0;34m]\u001b[0m\u001b[0;34m)\u001b[0m\u001b[0;34m.\u001b[0m\u001b[0mtranspose\u001b[0m\u001b[0;34m(\u001b[0m\u001b[0;34m)\u001b[0m\u001b[0;34m\u001b[0m\u001b[0m\n\u001b[1;32m      2\u001b[0m \u001b[0mprint\u001b[0m\u001b[0;34m(\u001b[0m\u001b[0mquery_matrix\u001b[0m\u001b[0;34m.\u001b[0m\u001b[0mshape\u001b[0m\u001b[0;34m)\u001b[0m\u001b[0;34m\u001b[0m\u001b[0m\n\u001b[0;32m----> 3\u001b[0;31m \u001b[0muq\u001b[0m\u001b[0;34m,\u001b[0m \u001b[0msq\u001b[0m\u001b[0;34m,\u001b[0m \u001b[0mvq\u001b[0m \u001b[0;34m=\u001b[0m \u001b[0msvds\u001b[0m\u001b[0;34m(\u001b[0m\u001b[0mquery_matrix\u001b[0m\u001b[0;34m,\u001b[0m \u001b[0mk\u001b[0m\u001b[0;34m=\u001b[0m\u001b[0;36m3\u001b[0m\u001b[0;34m)\u001b[0m\u001b[0;34m\u001b[0m\u001b[0m\n\u001b[0m\u001b[1;32m      4\u001b[0m \u001b[0mq_compressed\u001b[0m\u001b[0;34m,\u001b[0m \u001b[0m_\u001b[0m\u001b[0;34m,\u001b[0m \u001b[0mqs_compressed\u001b[0m \u001b[0;34m=\u001b[0m \u001b[0msvds\u001b[0m\u001b[0;34m(\u001b[0m\u001b[0mquery_matrix\u001b[0m\u001b[0;34m,\u001b[0m \u001b[0mk\u001b[0m \u001b[0;34m=\u001b[0m \u001b[0;36m3\u001b[0m\u001b[0;34m)\u001b[0m\u001b[0;34m\u001b[0m\u001b[0m\n\u001b[1;32m      5\u001b[0m \u001b[0mqs_compressed\u001b[0m \u001b[0;34m=\u001b[0m \u001b[0mqs_compressed\u001b[0m\u001b[0;34m.\u001b[0m\u001b[0mtranspose\u001b[0m\u001b[0;34m(\u001b[0m\u001b[0;34m)\u001b[0m\u001b[0;34m\u001b[0m\u001b[0m\n",
      "\u001b[0;32m/Library/Frameworks/Python.framework/Versions/3.5/lib/python3.5/site-packages/scipy/sparse/linalg/eigen/arpack/arpack.py\u001b[0m in \u001b[0;36msvds\u001b[0;34m(A, k, ncv, tol, which, v0, maxiter, return_singular_vectors)\u001b[0m\n\u001b[1;32m   1732\u001b[0m     \u001b[0;31m# This is not a stable way to approach the problem.\u001b[0m\u001b[0;34m\u001b[0m\u001b[0;34m\u001b[0m\u001b[0m\n\u001b[1;32m   1733\u001b[0m     eigvals, eigvec = eigsh(XH_X, k=k, tol=tol ** 2, maxiter=maxiter,\n\u001b[0;32m-> 1734\u001b[0;31m                                   ncv=ncv, which=which, v0=v0)\n\u001b[0m\u001b[1;32m   1735\u001b[0m \u001b[0;34m\u001b[0m\u001b[0m\n\u001b[1;32m   1736\u001b[0m     \u001b[0;31m# In 'LM' mode try to be clever about small eigenvalues.\u001b[0m\u001b[0;34m\u001b[0m\u001b[0;34m\u001b[0m\u001b[0m\n",
      "\u001b[0;32m/Library/Frameworks/Python.framework/Versions/3.5/lib/python3.5/site-packages/scipy/sparse/linalg/eigen/arpack/arpack.py\u001b[0m in \u001b[0;36meigsh\u001b[0;34m(A, k, M, sigma, which, v0, ncv, maxiter, tol, return_eigenvectors, Minv, OPinv, mode)\u001b[0m\n\u001b[1;32m   1505\u001b[0m \u001b[0;34m\u001b[0m\u001b[0m\n\u001b[1;32m   1506\u001b[0m     \u001b[0;32mif\u001b[0m \u001b[0mk\u001b[0m \u001b[0;34m<=\u001b[0m \u001b[0;36m0\u001b[0m \u001b[0;32mor\u001b[0m \u001b[0mk\u001b[0m \u001b[0;34m>=\u001b[0m \u001b[0mn\u001b[0m\u001b[0;34m:\u001b[0m\u001b[0;34m\u001b[0m\u001b[0m\n\u001b[0;32m-> 1507\u001b[0;31m         raise ValueError(\"k must be between 1 and the order of the \"\n\u001b[0m\u001b[1;32m   1508\u001b[0m                          \"square input matrix.\")\n\u001b[1;32m   1509\u001b[0m \u001b[0;34m\u001b[0m\u001b[0m\n",
      "\u001b[0;31mValueError\u001b[0m: k must be between 1 and the order of the square input matrix."
=======
      "\u001b[0;32m<ipython-input-15-e82ec074ee35>\u001b[0m in \u001b[0;36m<module>\u001b[0;34m()\u001b[0m\n\u001b[0;32m----> 1\u001b[0;31m \u001b[0mquery_matrix\u001b[0m \u001b[0;34m=\u001b[0m \u001b[0mvectorizer\u001b[0m\u001b[0;34m.\u001b[0m\u001b[0mfit_transform\u001b[0m\u001b[0;34m(\u001b[0m\u001b[0;34m\"Good morning how are you doing today\"\u001b[0m\u001b[0;34m)\u001b[0m\u001b[0;34m.\u001b[0m\u001b[0mtranspose\u001b[0m\u001b[0;34m(\u001b[0m\u001b[0;34m)\u001b[0m\u001b[0;34m\u001b[0m\u001b[0m\n\u001b[0m\u001b[1;32m      2\u001b[0m \u001b[0;32mprint\u001b[0m\u001b[0;34m(\u001b[0m\u001b[0mquery_matrix\u001b[0m\u001b[0;34m.\u001b[0m\u001b[0mshape\u001b[0m\u001b[0;34m)\u001b[0m\u001b[0;34m\u001b[0m\u001b[0m\n\u001b[1;32m      3\u001b[0m \u001b[0muq\u001b[0m\u001b[0;34m,\u001b[0m \u001b[0msq\u001b[0m\u001b[0;34m,\u001b[0m \u001b[0mvq\u001b[0m \u001b[0;34m=\u001b[0m \u001b[0msvds\u001b[0m\u001b[0;34m(\u001b[0m\u001b[0mquery_matrix\u001b[0m\u001b[0;34m,\u001b[0m \u001b[0mk\u001b[0m\u001b[0;34m=\u001b[0m\u001b[0;36m1\u001b[0m\u001b[0;34m)\u001b[0m\u001b[0;34m\u001b[0m\u001b[0m\n\u001b[1;32m      4\u001b[0m \u001b[0mq_compressed\u001b[0m\u001b[0;34m,\u001b[0m \u001b[0m_\u001b[0m\u001b[0;34m,\u001b[0m \u001b[0mqs_compressed\u001b[0m \u001b[0;34m=\u001b[0m \u001b[0msvds\u001b[0m\u001b[0;34m(\u001b[0m\u001b[0mquery_matrix\u001b[0m\u001b[0;34m,\u001b[0m \u001b[0mk\u001b[0m \u001b[0;34m=\u001b[0m \u001b[0;36m40\u001b[0m\u001b[0;34m)\u001b[0m\u001b[0;34m\u001b[0m\u001b[0m\n\u001b[1;32m      5\u001b[0m \u001b[0mqs_compressed\u001b[0m \u001b[0;34m=\u001b[0m \u001b[0mqs_compressed\u001b[0m\u001b[0;34m.\u001b[0m\u001b[0mtranspose\u001b[0m\u001b[0;34m(\u001b[0m\u001b[0;34m)\u001b[0m\u001b[0;34m\u001b[0m\u001b[0m\n",
      "\u001b[0;32m/Library/Frameworks/Python.framework/Versions/2.7/lib/python2.7/site-packages/sklearn/feature_extraction/text.pyc\u001b[0m in \u001b[0;36mfit_transform\u001b[0;34m(self, raw_documents, y)\u001b[0m\n\u001b[1;32m   1379\u001b[0m             \u001b[0mTf\u001b[0m\u001b[0;34m-\u001b[0m\u001b[0midf\u001b[0m\u001b[0;34m-\u001b[0m\u001b[0mweighted\u001b[0m \u001b[0mdocument\u001b[0m\u001b[0;34m-\u001b[0m\u001b[0mterm\u001b[0m \u001b[0mmatrix\u001b[0m\u001b[0;34m.\u001b[0m\u001b[0;34m\u001b[0m\u001b[0m\n\u001b[1;32m   1380\u001b[0m         \"\"\"\n\u001b[0;32m-> 1381\u001b[0;31m         \u001b[0mX\u001b[0m \u001b[0;34m=\u001b[0m \u001b[0msuper\u001b[0m\u001b[0;34m(\u001b[0m\u001b[0mTfidfVectorizer\u001b[0m\u001b[0;34m,\u001b[0m \u001b[0mself\u001b[0m\u001b[0;34m)\u001b[0m\u001b[0;34m.\u001b[0m\u001b[0mfit_transform\u001b[0m\u001b[0;34m(\u001b[0m\u001b[0mraw_documents\u001b[0m\u001b[0;34m)\u001b[0m\u001b[0;34m\u001b[0m\u001b[0m\n\u001b[0m\u001b[1;32m   1382\u001b[0m         \u001b[0mself\u001b[0m\u001b[0;34m.\u001b[0m\u001b[0m_tfidf\u001b[0m\u001b[0;34m.\u001b[0m\u001b[0mfit\u001b[0m\u001b[0;34m(\u001b[0m\u001b[0mX\u001b[0m\u001b[0;34m)\u001b[0m\u001b[0;34m\u001b[0m\u001b[0m\n\u001b[1;32m   1383\u001b[0m         \u001b[0;31m# X is already a transformed view of raw_documents so\u001b[0m\u001b[0;34m\u001b[0m\u001b[0;34m\u001b[0m\u001b[0m\n",
      "\u001b[0;32m/Library/Frameworks/Python.framework/Versions/2.7/lib/python2.7/site-packages/sklearn/feature_extraction/text.pyc\u001b[0m in \u001b[0;36mfit_transform\u001b[0;34m(self, raw_documents, y)\u001b[0m\n\u001b[1;32m    858\u001b[0m         \u001b[0;32mif\u001b[0m \u001b[0misinstance\u001b[0m\u001b[0;34m(\u001b[0m\u001b[0mraw_documents\u001b[0m\u001b[0;34m,\u001b[0m \u001b[0msix\u001b[0m\u001b[0;34m.\u001b[0m\u001b[0mstring_types\u001b[0m\u001b[0;34m)\u001b[0m\u001b[0;34m:\u001b[0m\u001b[0;34m\u001b[0m\u001b[0m\n\u001b[1;32m    859\u001b[0m             raise ValueError(\n\u001b[0;32m--> 860\u001b[0;31m                 \u001b[0;34m\"Iterable over raw text documents expected, \"\u001b[0m\u001b[0;34m\u001b[0m\u001b[0m\n\u001b[0m\u001b[1;32m    861\u001b[0m                 \"string object received.\")\n\u001b[1;32m    862\u001b[0m \u001b[0;34m\u001b[0m\u001b[0m\n",
      "\u001b[0;31mValueError\u001b[0m: Iterable over raw text documents expected, string object received."
>>>>>>> 17933aa1c2021a3edea7f16bb588a60a7dae00f9
     ]
    }
   ],
   "source": [
<<<<<<< HEAD
    "query_matrix = vectorizer.fit_transform([\"good morning how are you doing today\"]).transpose()\n",
=======
    "query_matrix = vectorizer.fit_transform([\"Good morning how are you doing today\"]).transpose()\n",
>>>>>>> 17933aa1c2021a3edea7f16bb588a60a7dae00f9
    "print(query_matrix.shape)\n",
    "uq, sq, vq = svds(query_matrix, k=3)\n",
    "q_compressed, _, qs_compressed = svds(query_matrix, k = 3)\n",
    "qs_compressed = qs_compressed.transpose()\n",
    "print(qs_compressed)"
   ]
  },
  {
   "cell_type": "code",
   "execution_count": null,
   "metadata": {
    "collapsed": true
   },
   "outputs": [],
   "source": []
  },
  {
   "cell_type": "code",
   "execution_count": null,
   "metadata": {
    "collapsed": true
   },
   "outputs": [],
   "source": []
  }
 ],
 "metadata": {
  "kernelspec": {
   "display_name": "Python 2",
   "language": "python",
   "name": "python2"
  },
  "language_info": {
   "codemirror_mode": {
    "name": "ipython",
    "version": 2
   },
   "file_extension": ".py",
   "mimetype": "text/x-python",
   "name": "python",
   "nbconvert_exporter": "python",
   "pygments_lexer": "ipython2",
   "version": "2.7.14"
  }
 },
 "nbformat": 4,
 "nbformat_minor": 2
}
