{
 "cells": [
  {
   "cell_type": "code",
   "execution_count": 1,
   "metadata": {},
   "outputs": [],
   "source": [
    "import numpy as np\n",
    "import json\n",
    "from sklearn.feature_extraction.text import TfidfVectorizer\n",
    "from scipy.sparse.linalg import svds\n",
    "import matplotlib\n",
    "import matplotlib.pyplot as plt\n",
    "from sklearn.preprocessing import normalize\n",
    "from sklearn.manifold import TSNE"
   ]
  },
  {
   "cell_type": "code",
   "execution_count": 6,
   "metadata": {},
   "outputs": [
    {
     "ename": "AttributeError",
     "evalue": "'_io.TextIOWrapper' object has no attribute 'size'",
     "output_type": "error",
     "traceback": [
      "\u001b[0;31m---------------------------------------------------------------------------\u001b[0m",
      "\u001b[0;31mAttributeError\u001b[0m                            Traceback (most recent call last)",
      "\u001b[0;32m<ipython-input-6-f58b09bc556f>\u001b[0m in \u001b[0;36m<module>\u001b[0;34m()\u001b[0m\n\u001b[1;32m      1\u001b[0m \u001b[0;34m\u001b[0m\u001b[0m\n\u001b[1;32m      2\u001b[0m \u001b[0;34m\u001b[0m\u001b[0m\n\u001b[0;32m----> 3\u001b[0;31m \u001b[0mprint\u001b[0m\u001b[0;34m(\u001b[0m\u001b[0mopen\u001b[0m\u001b[0;34m(\u001b[0m\u001b[0;34m\"songData.json\"\u001b[0m\u001b[0;34m)\u001b[0m\u001b[0;34m.\u001b[0m\u001b[0msize\u001b[0m\u001b[0;34m(\u001b[0m\u001b[0;34m)\u001b[0m\u001b[0;34m)\u001b[0m\u001b[0;34m\u001b[0m\u001b[0m\n\u001b[0m\u001b[1;32m      4\u001b[0m \u001b[0;34m\u001b[0m\u001b[0m\n\u001b[1;32m      5\u001b[0m \u001b[0;31m#with open(\"songData.json\") as f:\u001b[0m\u001b[0;34m\u001b[0m\u001b[0;34m\u001b[0m\u001b[0m\n",
      "\u001b[0;31mAttributeError\u001b[0m: '_io.TextIOWrapper' object has no attribute 'size'"
     ]
    }
   ],
   "source": [
    "with open(\"songData.json\", \"r\") as f:\n",
    "\tsong_transcripts = json.load(f)\n",
    "\n",
    "songs = list(song_transcripts.values())\n",
    "print(songs[0].keys())"
   ]
  },
  {
   "cell_type": "code",
   "execution_count": null,
   "metadata": {},
   "outputs": [],
   "source": [
    "vectorizer = TfidfVectorizer(stop_words = \"english\", max_df = 0.7, min_df = 75)\n",
    "lyric_matrix = vectorizer.fit_transform([song[\"lyrics\"] for song in songs]).transpose()\n",
    "\n",
    "u, s, v = svds(lyric_matrix, k=100)\n",
    "words_compressed, _, docs_compressed = svds(lyric_matrix, k = 40)\n",
    "docs_compressed = docs_compressed.transpose()\n",
    "\n",
    "print(words_compressed.shape)\n",
    "print(docs_compressed.shape)\n",
    "\n",
    "word_to_index = vectorizer.vocabulary_\n",
    "print(word_to_index)\n",
    "index_to_word = {i:t for t,i, in word_to_index.items()}\n",
    "words_compressed = normalize(words_compressed, axis =1)"
   ]
  },
  {
   "cell_type": "code",
   "execution_count": null,
   "metadata": {},
   "outputs": [],
   "source": [
    "tsne = TSNE(verbose=1)\n",
    "projected_docs = tsne.fit_transform(docs_compressed)\n",
    "\n",
    "docs_compressed = normalize(docs_compressed, axis=1)\n",
    "\n",
    "def closest_songs(project_index_in, k=10):\n",
    "\tsims = docs_compressed.dot(docs_compressed[project_index_in,:])\n",
    "\tasort = np.argsort(-sims)[:k+1]\n",
    "\treturn [(songs[i][\"title\"], sims[i]/sims[asort[0]]) for i in asort[1:]]\n",
    "\n",
    "for i in range(10):\n",
    "\tprint(songs[i][\"title\"])\n",
    "\tfor title, score in closest_songs(i):\n",
    "\t\tprint(\"{}:{:.3f}\".format(title[:40], score))\n",
    "\tprint()"
   ]
  },
  {
   "cell_type": "code",
   "execution_count": null,
   "metadata": {},
   "outputs": [],
   "source": []
  },
  {
   "cell_type": "code",
   "execution_count": null,
   "metadata": {},
   "outputs": [],
   "source": []
  },
  {
   "cell_type": "code",
   "execution_count": null,
   "metadata": {},
   "outputs": [],
   "source": []
  },
  {
   "cell_type": "code",
   "execution_count": null,
   "metadata": {},
   "outputs": [],
   "source": []
  }
 ],
 "metadata": {
  "kernelspec": {
   "display_name": "Python 3",
   "language": "python",
   "name": "python3"
  },
  "language_info": {
   "codemirror_mode": {
    "name": "ipython",
    "version": 3
   },
   "file_extension": ".py",
   "mimetype": "text/x-python",
   "name": "python",
   "nbconvert_exporter": "python",
   "pygments_lexer": "ipython3",
   "version": "3.5.2"
  }
 },
 "nbformat": 4,
 "nbformat_minor": 2
}
